{
 "cells": [
  {
   "cell_type": "code",
   "execution_count": 1,
   "metadata": {},
   "outputs": [],
   "source": [
    "import os\n",
    "import streamlit as st\n",
    "from dotenv import load_dotenv\n",
    "from langchain_openai import OpenAI, ChatOpenAI\n",
    "from langchain_core.prompts import PromptTemplate\n",
    "from langchain_core.output_parsers import StrOutputParser"
   ]
  },
  {
   "cell_type": "code",
   "execution_count": 2,
   "metadata": {},
   "outputs": [
    {
     "data": {
      "text/plain": [
       "True"
      ]
     },
     "execution_count": 2,
     "metadata": {},
     "output_type": "execute_result"
    }
   ],
   "source": [
    "load_dotenv()"
   ]
  },
  {
   "cell_type": "code",
   "execution_count": 40,
   "metadata": {},
   "outputs": [],
   "source": [
    "os.environ['OPENAI_API_KEY'] = os.getenv('OPENAI_API_KEY')\n",
    "os.environ['LANGCHAIN_TRACING_V2']='true'\n",
    "os.environ['LANGCHAIN_API_KEY'] = os.getenv('LANGCHAIN_API_KEY')"
   ]
  },
  {
   "cell_type": "code",
   "execution_count": 41,
   "metadata": {},
   "outputs": [],
   "source": [
    "sentiment_prompt = PromptTemplate(\n",
    "    template=\"\"\"\n",
    "    Ouptut the sentiment of the following text: {input}\n",
    "\n",
    "    While outputting the sentiment, please also provide a brief explanation of the sentiment.\n",
    "    Then list the specific sentiments that were detected in the text.\n",
    "    \"\"\",\n",
    "    input_variables=['input'])"
   ]
  },
  {
   "cell_type": "code",
   "execution_count": 42,
   "metadata": {},
   "outputs": [],
   "source": [
    "inventory_prompt = PromptTemplate(\n",
    "    template=\"\"\"\n",
    "    You are managing the inventory of a player's inventory, which is a list: {inventory}\n",
    "\n",
    "    The player will let you know what they would like to add to the inventory: {input}\n",
    "\n",
    "    You will need to update the {inventory} by adding the item to the list.\n",
    "\n",
    "    Once that's done, output the updated inventory list and nothing else.\n",
    "    \"\"\",\n",
    "    input_variables=['inventory', 'input']\n",
    ")"
   ]
  },
  {
   "cell_type": "code",
   "execution_count": 58,
   "metadata": {},
   "outputs": [],
   "source": [
    "llm = ChatOpenAI(model='gpt-4o')\n",
    "output_parser = StrOutputParser()\n",
    "sentiment_chain = sentiment_prompt | llm | output_parser\n",
    "sentiment_chain.name = 'Sentiment Analysis'\n",
    "inventory_chain = inventory_prompt | llm | output_parser\n",
    "inventory_chain.name = 'Inventory Management'"
   ]
  },
  {
   "cell_type": "code",
   "execution_count": 44,
   "metadata": {},
   "outputs": [],
   "source": [
    "sentiment_input = \"\"\"\n",
    "The other day, I went to the gym and did some workouts.\n",
    "Came home and went to bed feeling kind of drained.\n",
    "Woke up in the early morning and meditated.\n",
    "Then ate some nice eggs and listed to a recording of my boss talking down to me from the previous night.\n",
    "After that, I enjoyed a good lunch with my wife, who laughed a ton with me.\n",
    "Then I went back to the gym and hit a new PR on all my exercises.\n",
    "I am getting stronger everyday.\n",
    "My boss still yells at me even though I can suplex him.\n",
    "\"\"\""
   ]
  },
  {
   "cell_type": "code",
   "execution_count": 45,
   "metadata": {},
   "outputs": [],
   "source": [
    "inventory = ['sword', 'shield', 'potion']\n",
    "inventory_input = 'I would like to add a bow to my inventory.'"
   ]
  },
  {
   "cell_type": "code",
   "execution_count": 59,
   "metadata": {},
   "outputs": [],
   "source": [
    "sentiment_response = sentiment_chain.invoke({'input':sentiment_input})"
   ]
  },
  {
   "cell_type": "code",
   "execution_count": 60,
   "metadata": {},
   "outputs": [
    {
     "name": "stdout",
     "output_type": "stream",
     "text": [
      "The overall sentiment of the text is mixed. \n",
      "\n",
      "**Explanation:**\n",
      "The text contains both positive and negative elements. The positive aspects include the narrator's achievements at the gym, enjoyable moments with their wife, and feelings of personal growth. On the other hand, the negative aspects involve feeling drained, being talked down to by their boss, and the ongoing issue of the boss yelling at them.\n",
      "\n",
      "**Specific sentiments detected:**\n",
      "\n",
      "1. **Neutral/Positive**: \"The other day, I went to the gym and did some workouts.\"\n",
      "   - This statement is neutral to positive, reflecting a routine activity that is generally considered beneficial.\n",
      "\n",
      "2. **Negative**: \"Came home and went to bed feeling kind of drained.\"\n",
      "   - This indicates a sense of exhaustion and low energy.\n",
      "\n",
      "3. **Neutral/Positive**: \"Woke up in the early morning and meditated.\"\n",
      "   - This is a neutral to positive activity, suggesting a calm and reflective start to the day.\n",
      "\n",
      "4. **Positive**: \"Then ate some nice eggs and listed to a recording of my boss talking down to me from the previous night.\"\n",
      "   - While eating nice eggs is positive, listening to the boss talking down is negative, creating a mixed sentiment.\n",
      "\n",
      "5. **Positive**: \"After that, I enjoyed a good lunch with my wife, who laughed a ton with me.\"\n",
      "   - This is a positive statement, highlighting a pleasant and joyful interaction.\n",
      "\n",
      "6. **Positive**: \"Then I went back to the gym and hit a new PR on all my exercises.\"\n",
      "   - This indicates a sense of achievement and progress, contributing positively to the sentiment.\n",
      "\n",
      "7. **Positive**: \"I am getting stronger everyday.\"\n",
      "   - This reflects a positive self-assessment and a sense of improvement.\n",
      "\n",
      "8. **Negative**: \"My boss still yells at me even though I can suplex him.\"\n",
      "   - This statement is negative due to the ongoing conflict with the boss.\n",
      "\n",
      "In summary, the text oscillates between positive experiences related to personal growth and activities, and negative experiences related to the boss's behavior.\n"
     ]
    }
   ],
   "source": [
    "print(sentiment_response)"
   ]
  },
  {
   "cell_type": "code",
   "execution_count": 48,
   "metadata": {},
   "outputs": [],
   "source": [
    "inventory_response = inventory_chain.invoke({'inventory':inventory, 'input':inventory_input})"
   ]
  },
  {
   "cell_type": "code",
   "execution_count": 49,
   "metadata": {},
   "outputs": [
    {
     "name": "stdout",
     "output_type": "stream",
     "text": [
      "\n",
      "\n",
      "inventory = ['sword', 'shield', 'potion']\n",
      "\n",
      "new_item = input(\"I would like to add a bow to my inventory.\")\n",
      "\n",
      "inventory.append(new_item)\n",
      "\n",
      "print(inventory)\n"
     ]
    }
   ],
   "source": [
    "print(inventory_response)"
   ]
  },
  {
   "cell_type": "code",
   "execution_count": 12,
   "metadata": {},
   "outputs": [
    {
     "name": "stdout",
     "output_type": "stream",
     "text": [
      "{\"email\":\"help@mycompany.com\"}\n"
     ]
    }
   ],
   "source": [
    "from openai import OpenAI\n",
    "import json\n",
    "\n",
    "client = OpenAI()\n",
    "\n",
    "response = client.chat.completions.create(\n",
    "    model=\"gpt-4o-2024-08-06\",\n",
    "    messages=[\n",
    "        {\n",
    "            \"role\": \"system\",\n",
    "            \"content\": \"You extract email addresses into JSON data.\"\n",
    "        },\n",
    "        {\n",
    "            \"role\": \"user\",\n",
    "            \"content\": \"Feeling stuck? Send a message to help@mycompany.com.\"\n",
    "        }\n",
    "    ],\n",
    "    response_format={\n",
    "        \"type\": \"json_schema\",\n",
    "        \"json_schema\": {\n",
    "            \"name\": \"email_schema\",\n",
    "            \"schema\": {\n",
    "                \"type\": \"object\",\n",
    "                \"properties\": {\n",
    "                    \"email\": {\n",
    "                        \"description\": \"The email address that appears in the input\",\n",
    "                        \"type\": \"string\"\n",
    "                    },\n",
    "                    \"additionalProperties\": False\n",
    "                }\n",
    "            }\n",
    "        }\n",
    "    }\n",
    ")\n",
    "\n",
    "\n",
    "json = json.loads(response.choices[0].message.content)\n",
    "print(response.choices[0].message.content)\n"
   ]
  },
  {
   "cell_type": "code",
   "execution_count": 14,
   "metadata": {},
   "outputs": [
    {
     "data": {
      "text/plain": [
       "'help@mycompany.com'"
      ]
     },
     "execution_count": 14,
     "metadata": {},
     "output_type": "execute_result"
    }
   ],
   "source": [
    "json['email']"
   ]
  }
 ],
 "metadata": {
  "kernelspec": {
   "display_name": "the_bastion",
   "language": "python",
   "name": "python3"
  },
  "language_info": {
   "codemirror_mode": {
    "name": "ipython",
    "version": 3
   },
   "file_extension": ".py",
   "mimetype": "text/x-python",
   "name": "python",
   "nbconvert_exporter": "python",
   "pygments_lexer": "ipython3",
   "version": "3.10.6"
  }
 },
 "nbformat": 4,
 "nbformat_minor": 2
}
