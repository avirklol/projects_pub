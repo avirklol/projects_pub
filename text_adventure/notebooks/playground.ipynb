{
 "cells": [
  {
   "cell_type": "code",
   "execution_count": 1,
   "metadata": {},
   "outputs": [],
   "source": [
    "import os\n",
    "import json\n",
    "from dotenv import load_dotenv\n",
    "from openai import OpenAI"
   ]
  },
  {
   "cell_type": "code",
   "execution_count": 2,
   "metadata": {},
   "outputs": [
    {
     "data": {
      "text/plain": [
       "True"
      ]
     },
     "execution_count": 2,
     "metadata": {},
     "output_type": "execute_result"
    }
   ],
   "source": [
    "load_dotenv()"
   ]
  },
  {
   "cell_type": "code",
   "execution_count": 5,
   "metadata": {},
   "outputs": [],
   "source": [
    "client = OpenAI()"
   ]
  },
  {
   "cell_type": "code",
   "execution_count": 25,
   "metadata": {},
   "outputs": [],
   "source": [
    "dm_template = [\n",
    "    {\n",
    "        \"role\": \"system\",\n",
    "        \"content\": \"\"\"\n",
    "        You are the DUNGEON MASTER agent crafting a story with {setting}. You will do one of many things:\n",
    "        1. You will always output JSON according to provided json_schema.\n",
    "        2. If prompted 'LOCKED ROOM' you will append a short description of a locked door situated in the {direction} to the following room details: {description}\n",
    "        3. If prompted 'HIDDEN ITEM' you will output the short description of an {item} and append a subtle hint to the following room details: {description}\n",
    "        4. If prompted 'INVENTORY' you will output the player's inventory in a short, descriptive manner. Here is the current inventory: {inventory}\n",
    "        REQUIREMENTS:\n",
    "        - The JSON must include an updated_description if 'LOCKED ROOM' or 'HIDDEN ITEM' are prompted else None.\n",
    "        - The JSON must have an item_description if 'HIDDEN ITEM' is prompted else None.\n",
    "        - The JSON must have an inventory_description if 'INVENTORY' is prompted else None.\n",
    "        - The response in updated_description and item_description cannot resemble previous responses.\n",
    "        - The response in inventory_description must resemble previous responses.\n",
    "        - The json_schema must have the following properties: updated_description, item_description, inventory_description.\n",
    "        \"\"\"\n",
    "    },\n",
    "    {\n",
    "        \"role\": \"user\",\n",
    "        \"content\": \"{prompt}\"\n",
    "    }\n",
    "]\n",
    "\n",
    "dm_config = [\n",
    "    {\n",
    "        \"role\": \"system\",\n",
    "        \"content\": None\n",
    "    },\n",
    "    {\n",
    "        \"role\": \"user\",\n",
    "        \"content\": None\n",
    "    }\n",
    "]\n",
    "\n",
    "def dm(prompt:str, setting:str, direction:str, description:str, item:str=None, inventory:list=None):\n",
    "\n",
    "    # DOCSTRING\n",
    "    \"\"\"An agent that will update a room description based on a prompt.\n",
    "\n",
    "    Args:\n",
    "        prompt (str): Either 'LOCKED ROOM', 'HIDDEN ITEM', or 'INVENTORY'.\n",
    "        setting (str): The setting of the room; what kind of location it is. Passed from the settings dictionary in modeuls.ai.config.\n",
    "        direction (str): The direction of the locked door in the room.\n",
    "        description (str): The description of the room.\n",
    "        item (str, optional): The item that is hidden in the room. Defaults to None.\n",
    "        inventory (str, optional): The player's inventory. Defaults to None.\n",
    "    \"\"\"\n",
    "\n",
    "    global dm_config\n",
    "\n",
    "    dm_config[0]['content'] = dm_template[0]['content'].format(setting=setting, direction=direction, description=description, item=item, inventory=inventory)\n",
    "    dm_config[-1]['content'] = dm_template[-1]['content'].format(prompt=prompt)\n",
    "\n",
    "    response = client.chat.completions.create(\n",
    "        model=\"gpt-4o\",\n",
    "        messages=dm_config,\n",
    "        response_format={\n",
    "            \"type\": \"json_schema\",\n",
    "            \"json_schema\": {\n",
    "                \"name\": \"dm_output\",\n",
    "                \"description\": \"The output of the dungeon master.\",\n",
    "                \"schema\": {\n",
    "                    \"type\": \"object\",\n",
    "                    \"properties\": {\n",
    "                        \"updated_description\": {\n",
    "                            \"description\": \"The updated description of the room if prompted 'LOCKED ROOM' or 'HIDDEN ITEM'. None if not prompted.\",\n",
    "                            \"type\": [\"string\", \"null\"]\n",
    "                        },\n",
    "                        \"item_description\": {\n",
    "                            \"description\": \"The description of the item if prompted 'HIDDEN ITEM'. None if not prompted or is None.\",\n",
    "                            \"type\": [\"string\", \"null\"]\n",
    "                        },\n",
    "                        \"inventory_description\": {\n",
    "                            \"description\": \"The player's inventory if prompted 'INVENTORY'. None if not prompted or is None.\",\n",
    "                            \"type\": [\"string\", \"null\"]\n",
    "                        },\n",
    "                        \"additionalProperties\": False\n",
    "                    }\n",
    "                }\n",
    "            }\n",
    "        }\n",
    "    )\n",
    "\n",
    "    dm_config.insert(1, {\"role\": \"system\", \"content\": \"PREVIOUS OUTPUT: \" + f\"{response.choices[0].message.content}\"})\n",
    "    \n",
    "    return response.choices[0].message.content"
   ]
  },
  {
   "cell_type": "code",
   "execution_count": 30,
   "metadata": {},
   "outputs": [],
   "source": [
    "response = json.loads(dm(\"inventory\", \"a cave\", \"north\", \"A dark, damp cave with a single torch on the wall. The faint rustling of leaves hints at something intriguing lying beneath.\", 'adorned key', ['sword, shield, potion']))"
   ]
  },
  {
   "cell_type": "code",
   "execution_count": 31,
   "metadata": {},
   "outputs": [
    {
     "data": {
      "text/plain": [
       "{'updated_description': None,\n",
       " 'item_description': None,\n",
       " 'inventory_description': 'You currently possess a shining sword forged for battle, a sturdy shield to protect against enemies, and a potion that gleams with the promise of healing.'}"
      ]
     },
     "execution_count": 31,
     "metadata": {},
     "output_type": "execute_result"
    }
   ],
   "source": [
    "response"
   ]
  }
 ],
 "metadata": {
  "kernelspec": {
   "display_name": "the_bastion",
   "language": "python",
   "name": "python3"
  },
  "language_info": {
   "codemirror_mode": {
    "name": "ipython",
    "version": 3
   },
   "file_extension": ".py",
   "mimetype": "text/x-python",
   "name": "python",
   "nbconvert_exporter": "python",
   "pygments_lexer": "ipython3",
   "version": "3.10.6"
  }
 },
 "nbformat": 4,
 "nbformat_minor": 2
}
