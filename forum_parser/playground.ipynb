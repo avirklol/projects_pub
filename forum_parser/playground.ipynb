{
 "cells": [
  {
   "cell_type": "code",
   "execution_count": 126,
   "metadata": {},
   "outputs": [],
   "source": [
    "# Imports\n",
    "from bs4 import BeautifulSoup as bs\n",
    "import requests\n",
    "import re\n",
    "import time\n",
    "import random\n",
    "import langchain\n",
    "import langchain_community\n",
    "import langchain_core\n",
    "import langchain_openai\n",
    "import streamlit as st\n",
    "import math\n",
    "import json\n",
    "from selenium import webdriver\n",
    "from selenium.webdriver.common.by import By\n",
    "from selenium.webdriver.common.keys import Keys\n",
    "from selenium.webdriver.common.action_chains import ActionChains\n",
    "from selenium.webdriver.support.ui import WebDriverWait\n",
    "from selenium.webdriver.support import expected_conditions as EC"
   ]
  },
  {
   "cell_type": "code",
   "execution_count": 4,
   "metadata": {},
   "outputs": [],
   "source": [
    "url = 'https://community.atlassian.com/?sort=recent'\n",
    "post_title_class = 'atl-post-list__tile__title'\n",
    "post_body_class = 'lia-message-body-content'"
   ]
  },
  {
   "cell_type": "code",
   "execution_count": 5,
   "metadata": {},
   "outputs": [],
   "source": [
    "def fetch_html(url):\n",
    "    response = requests.get(url)\n",
    "    if response.status_code == 200:\n",
    "        return response.text\n",
    "    else:\n",
    "        print('Error fetching HTML!')\n",
    "        return None"
   ]
  },
  {
   "cell_type": "code",
   "execution_count": 6,
   "metadata": {},
   "outputs": [],
   "source": [
    "def pull_forum_posts(pages: int = 1):\n",
    "\n",
    "    global post_title_class\n",
    "\n",
    "    if not isinstance(pages, int):\n",
    "        raise TypeError('The \"pages\" parameter must be an integer.')\n",
    "\n",
    "    posts = []\n",
    "\n",
    "    for i in range(1, pages + 1):\n",
    "\n",
    "        url = f'https://community.atlassian.com/?sort=recent&page={i}'\n",
    "        soup = bs(fetch_html(url), 'lxml')\n",
    "\n",
    "        for post in soup.find_all(class_=post_title_class):\n",
    "\n",
    "            post_data = {}\n",
    "\n",
    "            post_data['title'] = post.find('a').get_text().strip()\n",
    "            post_data['url'] = 'https://community.atlassian.com' + post.find('a')['href']\n",
    "\n",
    "            posts.append(post_data)\n",
    "\n",
    "        time.sleep(1)\n",
    "\n",
    "    return posts\n"
   ]
  },
  {
   "cell_type": "code",
   "execution_count": 28,
   "metadata": {},
   "outputs": [],
   "source": [
    "def pull_post_body(posts: list):\n",
    "\n",
    "    global post_body_class\n",
    "\n",
    "    if not isinstance(posts, list):\n",
    "        raise TypeError('The \"posts\" parameter must be a list.')\n",
    "\n",
    "    full_post_data = []\n",
    "\n",
    "    for post in posts:\n",
    "\n",
    "        post_data = {}\n",
    "\n",
    "        soup = bs(fetch_html(post['url']), 'lxml')\n",
    "\n",
    "        post_data['title'] = post['title']\n",
    "        post_data['url'] = post['url']\n",
    "        post_data['body'] = soup.find('div', class_=post_body_class).get_text().strip()\n",
    "\n",
    "        full_post_data.append(post_data)\n",
    "\n",
    "        time.sleep(random.randint(1, 3))\n",
    "\n",
    "    return full_post_data"
   ]
  },
  {
   "cell_type": "code",
   "execution_count": 8,
   "metadata": {},
   "outputs": [],
   "source": [
    "def full_pull(pages: int = 1):\n",
    "    start_time = time.time()\n",
    "    posts = pull_forum_posts(pages)\n",
    "    post_pull_time = time.time() - start_time\n",
    "    print(f'Pulled post titles and URLs. [{post_pull_time:.2f} seconds] \\nProceeding to pull post bodies...')\n",
    "    full_posts = pull_post_body(posts)\n",
    "    body_pull_time = time.time() - start_time - post_pull_time\n",
    "    print(f'Pulled post bodies. [{body_pull_time:.2f} seconds]\\n[{time.time() - start_time:.2f} seconds]')\n",
    "\n",
    "    return full_posts"
   ]
  },
  {
   "cell_type": "code",
   "execution_count": 32,
   "metadata": {},
   "outputs": [
    {
     "name": "stdout",
     "output_type": "stream",
     "text": [
      "Pulled post titles and URLs. [2.12 seconds] \n",
      "Proceeding to pull post bodies...\n",
      "Pulled post bodies. [40.91 seconds]\n",
      "[43.03 seconds]\n"
     ]
    }
   ],
   "source": [
    "one_page = full_pull(1)"
   ]
  },
  {
   "cell_type": "code",
   "execution_count": 33,
   "metadata": {},
   "outputs": [
    {
     "data": {
      "text/plain": [
       "[{'title': 'English trainer',\n",
       "  'url': 'https://community.atlassian.com/t5/Teamwork-Lab-discussions/English-trainer/td-p/2760558',\n",
       "  'body': \"I'm happy to join this community\"},\n",
       " {'title': 'use \"-s recursive -X ours\" for pull request',\n",
       "  'url': 'https://community.atlassian.com/t5/Bitbucket-questions/use-quot-s-recursive-X-ours-quot-for-pull-request/qaq-p/2760552',\n",
       "  'body': 'My Pull Request to a protected branch shows \"You will need to resolve conflicts to be able to merge\", but I locally I checked and it can be merged cleanly if I use `git merge\\xa0-s recursive -X ours`.Can I use this strategy to resolve the conflict?'},\n",
       " {'title': 'Resource management: How to allocate issues on multiple users or teams in Jira?',\n",
       "  'url': 'https://community.atlassian.com/t5/Jira-questions/Resource-management-How-to-allocate-issues-on-multiple-users-or/qaq-p/2760551',\n",
       "  'body': \"Hi,a very common use case is that companies want to do resource management on issues in Jira, and plan Initiatives or Epics multiple weeks in advance on one or more users or teams.Example 1:I know that in 3 months, I will need a developer for ten days for Epic A. I don't know what developer exactly it will be, but only that I will need him for ten weeks for Epic A. How?I tried using BigPicture, but the only way to do that is to create a fake user, which consumes a license, and assigning this user as the assignee of this Epic. Which obviously doesn't work, as the Epic will first need to be reviewed by some other people that are assignees (and the allocation will be lost after that).If I want to plan the work for two developers, that's even worse, as this assignment will be based on the assignee field (and there can be only one person).I just want to plan an the Epic for multiple people, so I know it will take up their allocation in the future :(Example 2:We want to allocate two+ teams of users to an Initiative that is coming up in 2 months and will take up a month, so that we can mark that these teams have already allocated 50% of their time to this Initiative and that other Initiatives can be planned for these teams only for the remaining 50% of their capacities during that month.Again, using BigPicture, I was able to plan team A to one initiative, yet when I assign this initiative to team B, it disappears from team A's resource schedule.Please advise me with resolving this - can BigPicture do it? Can some other app do it? Thanks.\"},\n",
       " {'title': 'Lost all history logs for my project',\n",
       "  'url': 'https://community.atlassian.com/t5/Bitbucket-questions/Lost-all-history-logs-for-my-project/qaq-p/2760544',\n",
       "  'body': 'I did a git stash locally and pulled my remote repo. I lost all history commits'},\n",
       " {'title': 'Estrategias de enseñanza que se pudieran incluir en las sesiones de aprendizaje',\n",
       "  'url': 'https://community.atlassian.com/t5/Jira-Work-Management-Discussions/Estrategias-de-ense%C3%B1anza-que-se-pudieran-incluir-en-las-sesiones/td-p/2760525',\n",
       "  'body': 'A continuación, se exponen algunos ejemplos de las estrategias didácticas que se pueden emplear en el salón de clases :\\xa0\\xa0\\xa0\\xa0\\xa0Ambiente de aprendizaje .\\xa0\\xa0Aprendizaje\\xa0 basado en problemas.\\xa0Aprendizaje\\xa0 colaborativo.\\xa0Aprendizaje\\xa0 situado.\\xa0Aprendizaje\\xa0 activo.\\xa0Gamificación en el aula.\\xa0Aula invertida.'},\n",
       " {'title': 'use custom fields from board to plot a chart in the dashboard',\n",
       "  'url': 'https://community.atlassian.com/t5/App-Central-questions/use-custom-fields-from-board-to-plot-a-chart-in-the-dashboard/qaq-p/2760489',\n",
       "  'body': 'Hi,I created a Jira board with customized fields with Dropdown buttons. My need is basically plot charts with the amount\\xa0of issues that was raised with this custom fields selected. For example: I would like to plot the amount of issues raised with Process selected, but when I go to chart by, I cant find this field there and I dont really know how to do it.Anyone could please help me ?'},\n",
       " {'title': 'Automation rule-change management - shows both success and \"some errors\"',\n",
       "  'url': 'https://community.atlassian.com/t5/Jira-questions/Automation-rule-change-management-shows-both-success-and-quot/qaq-p/2760481',\n",
       "  'body': 'In the SM project, I have turned on the below automation rule.\"When a low risk change management request is in review → then move request to approved\"Now, when I create a change request and assign the risk as \"low\", the ticket status automatically moves from \"awaiting CAB approval\" to \"Awaiting implementation\" - As expected.But, when we see the audit logs, there are two , 1 with success and 1 with \"some errors\"Success states that -\\xa0\\xa0Approve/Decline requestIssue approval has been completed for actionApproveSome errors states that -\\xa0Approve/Decline requestThere was a problem performing approve/decline in Jira:Issue was in a status where approval was not requiredHow to resolve this? Please help'},\n",
       " {'title': 'Using Jira for Managing my Hair Clinic’s Project Workflow',\n",
       "  'url': 'https://community.atlassian.com/t5/Jira-questions/Using-Jira-for-Managing-my-Hair-Clinic-s-Project-Workflow/qaq-p/2760477',\n",
       "  'body': \"Hi everyone, I'm considering using Jira to manage projects and tasks for What are some best practices for setting up Jira to handle appointment scheduling, and team collaboration? Thanks in advance!\"},\n",
       " {'title': 'Unable to clone an issue via JIRA CLI',\n",
       "  'url': 'https://community.atlassian.com/t5/App-Central-questions/Unable-to-clone-an-issue-via-JIRA-CLI/qaq-p/2760436',\n",
       "  'body': 'Hi,\\xa0I am trying to clone an issue via JIRA CLI but to no avail. It is showing the below errrorClone of issue DEPLOY-123573 failed. customfield_17180 (IT Services):\\xa0 IT Services is required.the options i used is --action cloneIssues --copyAttachments --jql \"key=DEPLOY-123573\"Can anyone help on this? Thanks in advance.'},\n",
       " {'title': 'Setting acces',\n",
       "  'url': 'https://community.atlassian.com/t5/Jira-questions/Setting-acces/qaq-p/2760434',\n",
       "  'body': 'I have many projects to do so I set project in Jira as a team. Do you think that is OK? or there will be better with other ways.When I set the project as a team then I add people to each team but everyone can see all the project (all team) NOT only their project. So How can i set the member of each project(team) that can only access in theirs.\\xa0Thank you'},\n",
       " {'title': 'Miếng Dán Trang Trí Tủ Lạnh / Nhà Bếp Họa Tiết Hoạt Hình Dễ Thương',\n",
       "  'url': 'https://community.atlassian.com/t5/Trello-discussions/Mi%E1%BA%BFng-D%C3%A1n-Trang-Tr%C3%AD-T%E1%BB%A7-L%E1%BA%A1nh-Nh%C3%A0-B%E1%BA%BFp-H%E1%BB%8Da-Ti%E1%BA%BFt-Ho%E1%BA%A1t-H%C3%ACnh-D%E1%BB%85-Th%C6%B0%C6%A1ng/td-p/2760414',\n",
       "  'body': 'ฅ ʕ • ̫͡ • ʔ ฅ Cảm ơn quý khách hàng đã ưu ái dành cho cửa hàng 4sdecor của chúng tôiฅ ʕ • ̫͡ • ʔ ฅ (❁´◡`❁) Tất cả hàng hóa đều mới tinh và chất lượng cao + Hàng sẵn sàng + Giao hàng nhanh(❁´◡`❁) Chỉ cần đặt hàng nếu bạn thích nó, nếu bạn do dự, bạn có thể bỏ lỡ nóThương hiệu mới và chất lượng caoCó thể tháo rời và không thấm nướcMàu sắc: Như hình ảnh hiển thị Kích thước: 30cm * 40cmChất liệu: PVCÁp dụng cho: Tường bếp, tủ, phòng trẻ em, cửa tủ lạnhGói bao gồm: 1 * Phim hoạt hình Thực phẩm Trái cây Nhãn dán trang tríLưu ý: Xin vui lòng cho phép sự khác biệt 1-2 cm do đo lường thủ công, cảm ơn.Do sự khác biệt giữa các màn hình khác nhau, hình ảnh có thể không phản ánh màu sắc thực tế của mặt hàng.Phim hoạt hình Dán thực phẩm Đề can trái cây đáng yêu Nấu ăn Bức tranh tường Nhà bếp Trang trí tường Tủ lạnh Cửa phòng trẻ em Đồ dùng ẩm thực có thể tháo rời✿✿ Mua càng nhiều, bạn càng nhận được nhiều chiết khấu. Giá chiết khấu sản phẩm + Ưu đãi gói + Phiếu mua hàng + Phiếu giao hàng miễn phí Shopee✿✿Nếu có bất kỳ câu hỏi nào, vui lòng liên hệ với chúng tôi ! ! ! Lưu ý: Các sản phẩm từ chất liệu vàng, kim cương, đá quý tại cửa hàng của chúng tôi đều được mạ điện / nhân tạoCác bạn có thể mua sản phẩm ở link dưới đây nhé:Website: 4sdecor.com'},\n",
       " {'title': 'height of an iframe in a Confluence app expands infinitely when the html/body set to 100%',\n",
       "  'url': 'https://community.atlassian.com/t5/Confluence-questions/height-of-an-iframe-in-a-Confluence-app-expands-infinitely-when/qaq-p/2760401',\n",
       "  'body': 'Issue Overview:I\\'m encountering a persistent problem with our Confluence app where the iframe height continuously expands indefinitely. This issue arises when we set the\\xa0html\\xa0and\\xa0body\\xa0elements to 100% height in our CSS, which we need to ensure the app content properly fills the screen. Instead, the iframe content initially loads at less than half the screen height and then starts expanding without limit. Looking at the developer tools (inspect), I can see that the Iframe height is increasing infinitely.Details:CSS Setup:We attempted to set the height of the\\xa0html\\xa0and\\xa0body\\xa0elements to 100% to make the content fill the screen.We also tried setting the body height to 100vh.Both approaches resulted in the iframe height expanding infinitelyHere is the CSS used:html,\\nbody {\\n    font-family: Arial, sans-serif;\\n    margin: 0;\\n    padding: 0;\\n    background-color: #f4f4f4;\\n    height: 100%;\\n}\\n\\nbody {\\n    height: 100vh; /* Tried both 100% and 100vh */\\n}\\n\\nnav ul {\\n    list-style-type: none;\\n    padding: 0;\\n}\\n\\nnav ul li {\\n    display: inline;\\n    margin-right: 10px;\\n}\\n\\nnav ul li a {\\n    text-decoration: none;\\n    color: #333;\\n}\\n\\n.container {\\n    margin: 20px;\\n    height: 100%;\\n    width: 100%;\\n}2. JavaScript for Handling Iframe Resizing:We included the\\xa0all.js\\xa0script from Atlassian to handle iframe resizing.Added a script to dynamically include the\\xa0all.js\\xa0file and call\\xa0AP.resize()\\xa0function to adjust the iframe size.Here is the JavaScript we used:document.addEventListener(\\'DOMContentLoaded\\', function () {\\n    const script = document.createElement(\\'script\\');\\n    script.src = \"https://connect-cdn.atl-paas.net/all.js\";\\n    script.async = true;\\n    document.head.appendChild(script);\\n\\n    function resizeIframe() {\\n        if (window.AP) {\\n            window.AP.resize();\\n        }\\n    }\\n\\n    resizeIframe();\\n    setInterval(resizeIframe, 500); // Adjust the interval as needed\\n});\\xa0HTML Structure:Our HTML structure in the Handlebars template (main.hbs) is as follows:<!DOCTYPE html>\\n<html>\\n\\n<head>\\n    <title>{{title}}</title>\\n    <link rel=\"stylesheet\" type=\"text/css\" href=\"/css/styles.css\">\\n</head>\\n\\n<body>\\n    <nav>\\n        <ul>\\n            <li><a href=\"/dashboard\">Dashboard</a></li>\\n            <li><a href=\"/documentation\">Documentation</a></li>\\n        </ul>\\n    </nav>\\n    <div class=\"container\">\\n        {{{body}}}\\n    </div>\\n    <script src=\"/js/scripts.js\"></script>\\n</body>\\n\\n</html>\\xa0Current Behavior:When the app loads, the iframe height starts at less than half of the screen height.As soon as we set the\\xa0html\\xa0and\\xa0body\\xa0height to 100%, the iframe height starts expanding infinitely.Setting specific pixel values for height prevents infinite growth but doesn\\'t achieve the desired responsive design.Community Insights:Has anyone experienced similar issues with iframe height expanding indefinitely in Confluence apps?Are there any recommended approaches or best practices for handling iframe resizing in Confluence apps?Could there be any specific configuration or settings we might be missing that could resolve this issue?thank you for any help.'},\n",
       " {'title': 'In order to add an email address to a service project, must it come from a verified email domain?',\n",
       "  'url': 'https://community.atlassian.com/t5/Jira-Service-Management/In-order-to-add-an-email-address-to-a-service-project-must-it/qaq-p/2760396',\n",
       "  'body': 'Does anyone know if it is necessary to add a domain to the email domain settings before you can use an email address from that domain in a service project?'},\n",
       " {'title': 'Get a list of fields for Jira Service Management reporting',\n",
       "  'url': 'https://community.atlassian.com/t5/Jira-Service-Management/Get-a-list-of-fields-for-Jira-Service-Management-reporting/qaq-p/2760389',\n",
       "  'body': \"Hi Community,Appreciate your help and guidance to find a complete list of fields for Jira Service Management tickets.For starters, I'd like to get a field in which I can find the date/time that the ticket entered the latest status.\\xa0 DateLastUpdate just doesn't do it as it shows when someone entered an update.Thanks in advance.\"},\n",
       " {'title': 'Is the Flagged Field functionality supported in Jira - Business Project?',\n",
       "  'url': 'https://community.atlassian.com/t5/Jira-questions/Is-the-Flagged-Field-functionality-supported-in-Jira-Business/qaq-p/2760357',\n",
       "  'body': \"We are promoting the use of the Flagged field for our projects and it has been working nicely for Software Projects. However, I just became aware that the feature functionality (in link below) does not appear to be available in a company-managed business project board or issue view. The Flagged field is in the Field Configuration Scheme and is associated with the projects Screen(s). However, the field is not available in the Issue Layout.https://community.atlassian.com/t5/Jira-articles/Why-flagging-Jira-issues-is-so-cool/ba-p/1872469Am I missing something where the built in Board/Issue functionality isn't supported in Business Projects and that the field just cannot be included in screen issue layout?\"}]"
      ]
     },
     "execution_count": 33,
     "metadata": {},
     "output_type": "execute_result"
    }
   ],
   "source": [
    "one_page"
   ]
  },
  {
   "cell_type": "code",
   "execution_count": 3,
   "metadata": {},
   "outputs": [],
   "source": [
    "\n",
    "# SERVICENOW\n",
    "\n",
    "# url = 'https://www.servicenow.com/community/itsm/ct-p/it-service-management'\n",
    "# post_title_class = 'custom-message-tile'\n",
    "# post_title_avoid_class ='custom-thread-featured-flag'\n",
    "# post_body_class = 'lia-message-body'\n",
    "# load_button_xpath = '//*[@id=\"custom-loader-button\"]'\n",
    "# accept_cookies_button = '//*[@id=\"truste-consent-button\"]'\n",
    "\n",
    "# ASANA\n",
    "\n",
    "url = 'https://forum.asana.com/c/forum-en/integrations/9'\n",
    "post_title_class = 'link-top-line'\n",
    "post_title_avoid_class ='custom-thread-featured-flag'\n",
    "post_body_class = 'cooked'\n",
    "load_button_xpath = '//*[@id=\"custom-loader-button\"]'\n",
    "accept_cookies_button = '//*[@id=\"truste-consent-button\"]'\n",
    "\n",
    "def fetch_posts(n):\n",
    "\n",
    "    posts = []\n",
    "    driver = webdriver.Chrome()\n",
    "    action = ActionChains(driver)\n",
    "    driver.get(url)\n",
    "    time.sleep(2)\n",
    "    # load_button = driver.find_element(By.XPATH, load_button_xpath)\n",
    "    # accept_cookies_button = driver.find_element(By.XPATH, accept_cookies_button)\n",
    "    # action.click(accept_cookies_button).perform()\n",
    "    while len(posts) < n:\n",
    "        try:\n",
    "            # action.click(load_button).perform()\n",
    "            post_titles = [post for post in driver.find_elements(By.CLASS_NAME, post_title_class) if post_title_avoid_class not in post.get_attribute('class')]\n",
    "            for post in post_titles[len(posts):]:\n",
    "                post_data = {}\n",
    "                title = post.find_element(By.TAG_NAME, 'a').get_attribute('title')\n",
    "                if title != '':\n",
    "                    post_data['title'] = title\n",
    "                else:\n",
    "                    post_data['title'] = post.find_element(By.TAG_NAME, 'a').text\n",
    "                post_data['url'] = post.find_element(By.TAG_NAME, 'a').get_attribute('href')\n",
    "                posts.append(post_data)\n",
    "        except Exception as e:\n",
    "            print(f'Error: {e}')\n",
    "            break\n",
    "    for post in posts[:n]:\n",
    "        try:\n",
    "            driver.get(post['url'])\n",
    "            time.sleep(1)\n",
    "            post['body'] = driver.find_element(By.CLASS_NAME, post_body_class).text\n",
    "        except Exception as e:\n",
    "            print(f'Error: {e}')\n",
    "    driver.quit()\n",
    "    return posts[:n]"
   ]
  },
  {
   "cell_type": "code",
   "execution_count": 4,
   "metadata": {},
   "outputs": [],
   "source": [
    "posts = fetch_posts(20)"
   ]
  },
  {
   "cell_type": "code",
   "execution_count": 5,
   "metadata": {},
   "outputs": [
    {
     "data": {
      "text/plain": [
       "[{'title': 'About the Integrations category',\n",
       "  'url': 'https://forum.asana.com/t/about-the-integrations-category/15',\n",
       "  'body': 'Ask all your questions about Asana integrations 83!'},\n",
       " {'title': 'Zapier Integration - Get IDs for custom field',\n",
       "  'url': 'https://forum.asana.com/t/zapier-integration-get-ids-for-custom-field/900012',\n",
       "  'body': 'Hi. I’m connecting Google Sheets and Asana, using Zapier. In both the Asana projec and the Google Sheet I have a mult-select field for “Assets”. I get the following error, how do I get the custom field values ID? I’m a project manager, not a developer.\\nThanks!\\nFailed to create a task in Asana\\nThe app returned “multi_enum_values: [0]: Not a recognized ID: Asset example”.\\nThe error message “multi_enum_values: [0]: Not a recognized ID: Asset example” indicates that the value “Asset examples” is not a valid ID for the custom field you are trying to update in Asana. This typically happens when the custom field expects a specific set of predefined options (IDs) and the provided value does not match any of these options.\\nTo resolve this issue, you need to ensure that the value you are passing to the custom field is a valid ID recognized by Asana. You can do this by fetching the list of valid IDs for the custom field from Asana and then using one of these IDs in your Zap. Here’s how you can do it:\\nFetch Valid IDs: Use Asana’s API to get the list of valid IDs for the custom field. You can do this by making a GET request to the custom field endpoint.\\nUpdate Zap: Once you have the valid IDs, update your Zap to use one of these IDs instead of “CIAM for Dummies”. You can use a Lookup Table in Zapier to map the human-readable values to the corresponding IDs.\\nFor example, if you have a custom field with options like “Option A” (ID: 12345) and “Option B” (ID: 67890), you would replace “Asset example” with the appropriate ID (e.g., 12345). This ensures that the value you are passing is recognized by Asana.'},\n",
       " {'title': 'Unable to connect to Google drive',\n",
       "  'url': 'https://forum.asana.com/t/unable-to-connect-to-google-drive/18061',\n",
       "  'body': 'Hi Guys,\\nAs Admin I setup G Suite then added Asana from the Marketplace.\\nBeen login in using “Use Google Account” and everything works fine until I need to attach a file from Google drive, using the attach button in Tasks. This is the error we get: “Attach Google Files - Sorry, we were unable to connect to Google. Please try again later.”\\nIs there something I’m missing/doing wrong? any fix?\\nThanks\\nJT'},\n",
       " {'title': 'Asana (lucid’s + gmail) Integrations Not Working',\n",
       "  'url': 'https://forum.asana.com/t/asana-lucids-gmail-integrations-not-working/780972',\n",
       "  'body': 'Hi all!\\nI have been trying to connect Asana with Lucid Chart, Lucid Spark, and gmail. I first was trying to connect Asana and Lucid Spark and it kept routing me to a blank, white page in Chrome and wouldn’t go any further than that. I tried clicking the “nothing happening? try again” button in the loading asana page but still nothing. I assumed it was a one off but tried with both Lucid Chart and email and it did the same for those as well.\\nHas anyone else has this issue? Any advice?\\nThank you!'},\n",
       " {'title': 'How can we @mention users via Zapier Action: Create story?',\n",
       "  'url': 'https://forum.asana.com/t/how-can-we-mention-users-via-zapier-action-create-story/127317',\n",
       "  'body': 'Hey all,\\nHow can we @mention users via Zapier Action: Create story?\\nThanks'},\n",
       " {'title': 'Integration with Outlook Calendar has wrong Organizer',\n",
       "  'url': 'https://forum.asana.com/t/integration-with-outlook-calendar-has-wrong-organizer/895016',\n",
       "  'body': 'I’m an Microsoft 365 admin and have added admin consent in Entra to allow Asana for Outlook Calendar to talk to Microsoft 365. One staff person is testing this and when he adds a calendar item to a task it’s showing that the Organizer is my admin account.\\nIt wouldn’t make sense for others to see the admin account as Organizer. Is there any way for him to set himself as Organizer rather than our Microsoft 365 Global Admin account. Can the Organizer default to the person creating the calendar item rather than the Global Admin account?'},\n",
       " {'title': 'Pipedrive “updated deal stage” not possible as trigger?',\n",
       "  'url': 'https://forum.asana.com/t/pipedrive-updated-deal-stage-not-possible-as-trigger/887222',\n",
       "  'body': 'I’ve setup an automation which should get triggered by Pipedrives “watch deals”.\\nSpecifically I want to trigger the automation when a Pipedrive deal gets moved to the stage “Deal Review”.\\nDuring development it worked fine (using the “run once” feature).\\nBut when I turn on the scenario and move a deal into the stage it doesn’t get triggered.\\nThis is what the trigger looks like:\\nAny idea what the issue is?'},\n",
       " {'title': 'Asana + Zapier + Google Drive',\n",
       "  'url': 'https://forum.asana.com/t/asana-zapier-google-drive/887590',\n",
       "  'body': 'Hello everyone, I’ve been trying to solve a problem with an automation for 2 days and I hope someone can help me.\\nI want to create a zap so that when a new task is added to a project, a folder is automatically created in drive, but I also want a subtask to be created within this main task, but also within the subtask in the description there is the link to the folder that was created previously.\\nThe first step of creating the folder is completed satisfactorily, but the problem is that when the sub task is created and the link is put in the description, the zap starts to loop and creates tasks outside of the main task with the name of the subtask.\\nI already spoke to Zapier support and they were unable to solve it since they tell me that the zap loops because in the action of creating a subtask it does not automatically find the parent task ID of the main task (as shown below) and the asana support team also does not give me a solution.\\nI would appreciate any help on this issue or if it is possible to do it in another way to do this automation.'},\n",
       " {'title': 'Integration for Bamboo',\n",
       "  'url': 'https://forum.asana.com/t/integration-for-bamboo/29416',\n",
       "  'body': 'We are using Asana for our company wide project management incl. our dev team. For deployment we are using Bamboo and we wish to have a connection between Asana and Bamboo. The goal is to integrate tickets and releases, similar to what Jira does. Does anyone have best practices?'},\n",
       " {'title': '[Screenful] Creating reports using Asana’s Actual time field',\n",
       "  'url': 'https://forum.asana.com/t/screenful-creating-reports-using-asanas-actual-time-field/877619',\n",
       "  'body': 'Do you find Asana’s built-in time tracking reports too limiting? I just wanted to let you know that Screenful 3 now supports the Estimated time and Actual time fields, and you can create charts and reports using data in those fields.\\nIf you have enabled time tracking on any of your Asana projects, the Estimated time and Actual time will be automatically imported and made available for Screenful charts. You can create charts based on time tracking data in the same way you create charts based on task data. You have all the same grouping and filtering options available.\\nCreate time tracking reports across all of your projects\\nGroup and filter charts by who logged time\\nSee how much time was logged by individual by task\\nSchedule reports to email or Slack\\nLearn more about time tracking reports or start a free trial 1 to give it a try with your own data.'},\n",
       " {'title': 'Import/sync/populate existing tickets from Jira to Asana?',\n",
       "  'url': 'https://forum.asana.com/t/import-sync-populate-existing-tickets-from-jira-to-asana/510744',\n",
       "  'body': 'Hey there,\\nI just installed the Jira Cloud Data Sync Integration for Asana, and it’s a nice integration that will definitely help create more transparency between tech and non-tech teams!\\nHere’s how I set it up:\\nI connected one (new) Asana project to an (existing) Jira project.\\nI set up a one-way sync from Jira to Asana for creation and updates.\\nI created a ticket in Jira, and it successfully synced to Asana\\nQuestion:\\nThe existing Jira project already has a lot of tickets. Is there a way to import, sync, or populate these existing tickets into Asana?\\nI look forward to hearing from you. Thank you in advance!'},\n",
       " {'title': 'Is there any phone systems or VOIP systems that integrate with Asana?',\n",
       "  'url': 'https://forum.asana.com/t/is-there-any-phone-systems-or-voip-systems-that-integrate-with-asana/862054',\n",
       "  'body': 'Was looking for an APIs or integrations of phone/VOIP system or software that automatically creates a ASANA task.'},\n",
       " {'title': 'Asana project Owner is wrong',\n",
       "  'url': 'https://forum.asana.com/t/asana-project-owner-is-wrong/884341',\n",
       "  'body': 'Hello,\\nin Salesforce, I created a screen flow in order to create an Asana Project from a custom object.\\nThe flow is launched from a button.\\nMy problem is : whoever launch the flow, the Asana project owner is me.\\nEach Salesforce user has an Asana account and has set the connection between Salesforce and Asana.\\nHow to change that ? The Asana project owner must be the Salesforce user who launch the flow.\\nRegards,\\nXavier'},\n",
       " {'title': 'Asana to Outlook calendar stopped syncing',\n",
       "  'url': 'https://forum.asana.com/t/asana-to-outlook-calendar-stopped-syncing/875229',\n",
       "  'body': 'Hello!\\nMany departments within my company have been using one specific Asana events calendar to stay up to date on major project dates. We have been utilizing the Asana-to-Outlook syncing capability for years, which has been helpful and effective in sharing this events calendar with the greater staff. However, recently, the Outlook calendar has stopped updating as we make changes to dates and content in the original Asana calendar.\\nMany of these departments rely on getting this information solely on through their Outlook calendars. We have found that manually unsubscribing an individual account from the Asana calendar (in Outlook) and then re-syncing the two calendars has fixed the problem. However, there are upward of 100 employees that use this calendar through Outlook. Asking each individual to do this process on their own is not ideal. We also do not have the staff or time to do this step for each of the necessary individuals.\\nAny alternative solutions would be greatly appreciated! Thank you!'},\n",
       " {'title': 'Send Slack Direct Message to Task Assignee',\n",
       "  'url': 'https://forum.asana.com/t/send-slack-direct-message-to-task-assignee/279770',\n",
       "  'body': 'I’d like to use the Slack integration rules to remind colleagues who aren’t in Asana daily about upcoming and overdue tasks. However, it seems like there are major limitations to both the recipient options and triggers.\\nHas anyone found a way to make either of the below scenarios work with the Slack integration rules?\\nWith the “send a direct message” rule, send that DM go to the task assignee.\\nWith the “send a channel message” rule, use project sections as part of the trigger. For example, only send a channel message for tasks overdue tasks in Section A.'},\n",
       " {'title': 'Zapier Workflow Suggestions needed',\n",
       "  'url': 'https://forum.asana.com/t/zapier-workflow-suggestions-needed/883879',\n",
       "  'body': 'I was wondering if anyone had any suggestions on how to create a workflow that needs to constantly get zapier related task updates. The Zap will send the entire record and unfortunately, it seems Asana treats the new information as a change to every field that has information.\\nI want an update from NULL to a date to trigger an action like creating a task, but I don’t want a task triggered when it updates from DateX to DateX.\\nI was hoping to use a number field that I could inspect based on the stage of the task so that it wouldn’t repeat things that it already did. I don’t see the # custom fields showing up as fields you can do rules based on the number < x.\\nRight now, i am creating a custom status field for every field and checking if it is blank before doing the action and then updating the custom field to YES so it doesn’t repeat.\\nAlso a text field has up to 4 different letters in it. It would be wonderful to have a rule inspect the text field and do things based on the value. Right now i have it create a task for me to manually inspect it and multihome it for each letter it has.\\nAny suggestions much appreciated.\\nThanks!\\nAnyone else have experience with Zap updates helping the workflow?'},\n",
       " {'title': 'Asana2Go: Copy, export, and print from Asana flexibly (Free for most users/companies)',\n",
       "  'url': 'https://forum.asana.com/t/asana2go-copy-export-and-print-from-asana-flexibly-free-for-most-users-companies/25392',\n",
       "  'body': 'Asana2Go 1.9k is a popular multi-purpose tool that allows you to copy, export (CSV for Excel and Google Sheets, JSON), and print (or save to PDF) from Asana flexibly.\\nTo see what it can do, and how to use it, watch this video 1.4k.\\nNovices: Just select your tasks and a predefined report format and go. Experts: Create your own formats, essentially giving you access to the power of the Asana API without a complex programming language – use Markdown or HTML and a templating language with built-in editing helpers and examples.\\nAsana2Go addresses requests regularly seen here in the Community including many of those in this thread. It works with both free and premium Asana accounts, reads but does not write/modify anything in your Asana, and as a Chrome Extension (also works on the MS Edge browser) requires no extra login/authentication.\\nInitial beta testers (thank you!) have liked the tool, so now I’m opening up the beta and looking forward to hearing what you think and seeing what you do with this new tool (feel free to use Export to send me any interesting formats you make!).\\nAs an intensive Asana user since 2012. I created Asana2Go for my own use and for my clients. Asana2Go is released with assistance (thanks @Bastien_Siebman) from the Asana Micro Incubator 23 project and is part of the Asana Superheroes toolbox 116.\\nThanks,\\nLarry Berger\\nTrilogi Software: Asana Consulting 18\\nPS Asana2Go has no direct affiliation with Asana the company.\\nPPS Output from two of the predefined report formats appears below:'},\n",
       " {'title': 'Link to a google drive folder',\n",
       "  'url': 'https://forum.asana.com/t/link-to-a-google-drive-folder/877285',\n",
       "  'body': 'Hi all,\\nIs there a way you can link a folder from Google drive into a task? Currently, I only see the option of linking specific files.\\nI think it will be a great feature to add if more people see value in this.'},\n",
       " {'title': 'Bug when adding Asana board in Teams channel Tab',\n",
       "  'url': 'https://forum.asana.com/t/bug-when-adding-asana-board-in-teams-channel-tab/829660',\n",
       "  'body': 'Hi\\nI am getting the following error message when adding an Asana board to a Microsoft Teams tab. (In case the image does not appear properly, it says’ This browser is not supported).\\nFor context, I am using the Asana integration in Microsoft Teams and am using the new Teams app:\\nUsing a workaround, whereby I use the online link to the browser add in and add the website link to the Asana board, did not work.'},\n",
       " {'title': 'Due dates disappeared on Calendar with Google Calendar integration',\n",
       "  'url': 'https://forum.asana.com/t/due-dates-disappeared-on-calendar-with-google-calendar-integration/873405',\n",
       "  'body': 'As of this morning my Team calendar properly showed the due dates for all the tasks assigned throughout our collective projects. Today I created a new rule in each project that would trigger a Google Calendar event to be made each time a task was moved to a certain section (I’m trying to figure out a solve for maintaining only one calendar between internal staff and external vendors who don’t have access to Asana). It seems like that did something because now my calendar only shows a handful of the due dates on the Team calendar. It appears to be a bug from browsing the forum. Am I able to get help with this? Thank you!'}]"
      ]
     },
     "execution_count": 5,
     "metadata": {},
     "output_type": "execute_result"
    }
   ],
   "source": [
    "posts"
   ]
  },
  {
   "cell_type": "code",
   "execution_count": 2,
   "metadata": {},
   "outputs": [],
   "source": [
    "class ScraperObjects:\n",
    "    def __init__(self, **kwargs):\n",
    "        for key, value in kwargs.items():\n",
    "            setattr(self, key, value)\n",
    "\n",
    "    def __repr__(self):\n",
    "        return f'{self.__class__.__name__}(' + '\\n' + ',\\n'.join(f'{key}={value}' for key,value in self.__dict__.items()) + '\\n)'"
   ]
  },
  {
   "cell_type": "code",
   "execution_count": 23,
   "metadata": {},
   "outputs": [],
   "source": [
    "test = ScraperObjects(url='somewebsite.com', post_title_class='post-title', none_type_key=)"
   ]
  },
  {
   "cell_type": "code",
   "execution_count": 24,
   "metadata": {},
   "outputs": [
    {
     "name": "stdout",
     "output_type": "stream",
     "text": [
      "ScraperObjects(\n",
      "url=somewebsite.com,\n",
      "post_title_class=post-title\n",
      ")\n"
     ]
    }
   ],
   "source": [
    "print(test)"
   ]
  },
  {
   "cell_type": "code",
   "execution_count": 6,
   "metadata": {},
   "outputs": [],
   "source": [
    "from openai import OpenAI\n",
    "from dotenv import load_dotenv\n",
    "import os\n",
    "import json\n",
    "import pandas as pd\n",
    "\n",
    "load_dotenv()\n",
    "\n",
    "def show_json(obj):\n",
    "    display(json.loads(obj.model_dump_json()))"
   ]
  },
  {
   "cell_type": "code",
   "execution_count": 106,
   "metadata": {},
   "outputs": [],
   "source": [
    "client = OpenAI()\n",
    "\n",
    "instructions = \"\"\"You are an expert in integrations software and can identify when a user would benefit from using Unito.\n",
    "You will use the evaluate_unito_candidates tool to indicate whether the messages in tha thread are good candidates for Unito's integration platform.\n",
    "A candidate would be a message where a user is discussing a need to sync data between two tools.\n",
    "Or, a user is asking for a way to automate a process between two tools.\n",
    "Or, a user is looking to increase productivity by connecting two tools.\n",
    "\"\"\"\n",
    "\n",
    "evaluate_unito_candidates_function = {\n",
    "    \"type\": \"function\",\n",
    "    \"function\": {\n",
    "        \"name\": \"evaluate_unito_candidates\",\n",
    "        \"description\": \"\"\"Evaluates a thread of messages to determine which are good candidates for Unito integration based on specific criteria.\n",
    "        Returns an array of boolean values, where each value corresponds to a message in the input array.\n",
    "        If the message is a good candidate for Unito integration, the value should be true. Otherwise, it should be false.\"\"\",\n",
    "        \"parameters\": {\n",
    "            \"type\": \"object\",\n",
    "            \"properties\": {\n",
    "                \"bool_list\": {\n",
    "                    \"type\": \"array\",\n",
    "                    \"description\": \"A list of boolean values corresponding to each element in the array provided by the user.\",\n",
    "                    \"items\": {\n",
    "                        \"type\": \"boolean\",\n",
    "                        \"description\": \"Boolean values associated with indices from the array provided by the user.\"\n",
    "                    }\n",
    "                }\n",
    "            },\n",
    "            \"required\": [\"bool_list\"],\n",
    "            'additionalProperties': False\n",
    "        }\n",
    "    },\n",
    "    'strict': True\n",
    "}\n",
    "\n",
    "# # assistant = client.beta.assistants.create(\n",
    "# #   name=\"Unito Expert\",\n",
    "# #   instructions=instructions,\n",
    "# #   tools=[evaluate_unito_candidates_function],\n",
    "# #   model=\"gpt-4\",\n",
    "\n",
    "# # )"
   ]
  },
  {
   "cell_type": "code",
   "execution_count": 19,
   "metadata": {},
   "outputs": [
    {
     "data": {
      "text/plain": [
       "{'id': 'asst_DuhI25qpRTHwB507WNA9EVHR',\n",
       " 'created_at': 1724617907,\n",
       " 'description': None,\n",
       " 'file_ids': [],\n",
       " 'instructions': 'You are an expert in integrations software and can identify when a user would benefit from using Unito.\\nYou will use the evaluate_unito_candidates tool to provide a boolean value for each message in a thread, indicating whether the post is a good candidate for Unito integration, and append it to a list.\\nA candidate would be a message where a user is discussing a need to sync data between two tools. \\nOr, a user is asking for a way to automate a process between two tools.\\nOr, a user is looking to increase productivity by connecting two tools.\\n',\n",
       " 'metadata': {},\n",
       " 'model': 'gpt-4',\n",
       " 'name': 'Unito Expert',\n",
       " 'object': 'assistant',\n",
       " 'tools': [{'function': {'name': 'evaluate_unito_candidates',\n",
       "    'description': 'Evaluates a thread of messages to determine which are good candidates for Unito integration based on specific criteria.\\n        Returns an array of boolean values, where each value corresponds to a message in the input array.\\n        If the message is a good candidate for Unito integration, the value should be true. Otherwise, it should be false.',\n",
       "    'parameters': {'type': 'object',\n",
       "     'properties': {'messages': {'type': 'array',\n",
       "       'description': 'A list of messages in the thread to be evaluated.',\n",
       "       'items': {'type': 'string',\n",
       "        'description': 'A single message from the thread.'}}},\n",
       "     'required': ['messages']},\n",
       "    'strict': False},\n",
       "   'type': 'function'}],\n",
       " 'top_p': 1.0,\n",
       " 'temperature': 1.0,\n",
       " 'response_format': 'auto'}"
      ]
     },
     "metadata": {},
     "output_type": "display_data"
    }
   ],
   "source": [
    "show_json(assistant)"
   ]
  },
  {
   "cell_type": "code",
   "execution_count": 12,
   "metadata": {},
   "outputs": [],
   "source": [
    "def filter_posts_bulk(posts: list) -> list:\n",
    "\n",
    "    global assistant, client, show_json\n",
    "\n",
    "    df = pd.DataFrame(posts)\n",
    "    thread = client.beta.threads.create()\n",
    "\n",
    "    for i, row in df.iterrows():\n",
    "        client.beta.threads.messages.create(\n",
    "            thread_id=thread.id,\n",
    "            role=\"user\",\n",
    "            content= row['body']\n",
    "        )\n",
    "\n",
    "    messages = client.beta.threads.messages.list(\n",
    "        thread_id=thread.id\n",
    "    )\n",
    "\n",
    "    return messages\n",
    "\n",
    "    # run = client.beta.threads.runs.create_and_poll(\n",
    "    #     thread_id=thread.id,\n",
    "    #     assistant_id=assistant.id,\n",
    "    # )\n",
    "\n",
    "    # if run.status == 'completed':\n",
    "    #     messages = client.beta.threads.messages.list(\n",
    "    #         thread_id=thread.id\n",
    "    #     )\n",
    "    #     print('Run completed.')\n",
    "    # else:\n",
    "    #     print(run.status)"
   ]
  },
  {
   "cell_type": "code",
   "execution_count": 20,
   "metadata": {},
   "outputs": [],
   "source": [
    "def run(posts: list):\n",
    "    messages = []\n",
    "    for post in posts:\n",
    "        messages.append(post['body'])\n",
    "\n",
    "    return messages"
   ]
  },
  {
   "cell_type": "code",
   "execution_count": 68,
   "metadata": {},
   "outputs": [],
   "source": [
    "bodies = [post['body'] for post in posts]\n",
    "empty_list = [['something']]\n",
    "\n",
    "for post in posts:\n",
    "    empty_list[0].append(post['body'])"
   ]
  },
  {
   "cell_type": "code",
   "execution_count": 58,
   "metadata": {},
   "outputs": [
    {
     "data": {
      "text/plain": [
       "[['something',\n",
       "  'Ask all your questions about Asana integrations 83!',\n",
       "  'Hi. I’m connecting Google Sheets and Asana, using Zapier. In both the Asana projec and the Google Sheet I have a mult-select field for “Assets”. I get the following error, how do I get the custom field values ID? I’m a project manager, not a developer.\\nThanks!\\nFailed to create a task in Asana\\nThe app returned “multi_enum_values: [0]: Not a recognized ID: Asset example”.\\nThe error message “multi_enum_values: [0]: Not a recognized ID: Asset example” indicates that the value “Asset examples” is not a valid ID for the custom field you are trying to update in Asana. This typically happens when the custom field expects a specific set of predefined options (IDs) and the provided value does not match any of these options.\\nTo resolve this issue, you need to ensure that the value you are passing to the custom field is a valid ID recognized by Asana. You can do this by fetching the list of valid IDs for the custom field from Asana and then using one of these IDs in your Zap. Here’s how you can do it:\\nFetch Valid IDs: Use Asana’s API to get the list of valid IDs for the custom field. You can do this by making a GET request to the custom field endpoint.\\nUpdate Zap: Once you have the valid IDs, update your Zap to use one of these IDs instead of “CIAM for Dummies”. You can use a Lookup Table in Zapier to map the human-readable values to the corresponding IDs.\\nFor example, if you have a custom field with options like “Option A” (ID: 12345) and “Option B” (ID: 67890), you would replace “Asset example” with the appropriate ID (e.g., 12345). This ensures that the value you are passing is recognized by Asana.',\n",
       "  'Hi Guys,\\nAs Admin I setup G Suite then added Asana from the Marketplace.\\nBeen login in using “Use Google Account” and everything works fine until I need to attach a file from Google drive, using the attach button in Tasks. This is the error we get: “Attach Google Files - Sorry, we were unable to connect to Google. Please try again later.”\\nIs there something I’m missing/doing wrong? any fix?\\nThanks\\nJT',\n",
       "  'Hi all!\\nI have been trying to connect Asana with Lucid Chart, Lucid Spark, and gmail. I first was trying to connect Asana and Lucid Spark and it kept routing me to a blank, white page in Chrome and wouldn’t go any further than that. I tried clicking the “nothing happening? try again” button in the loading asana page but still nothing. I assumed it was a one off but tried with both Lucid Chart and email and it did the same for those as well.\\nHas anyone else has this issue? Any advice?\\nThank you!',\n",
       "  'Hey all,\\nHow can we @mention users via Zapier Action: Create story?\\nThanks',\n",
       "  'I’m an Microsoft 365 admin and have added admin consent in Entra to allow Asana for Outlook Calendar to talk to Microsoft 365. One staff person is testing this and when he adds a calendar item to a task it’s showing that the Organizer is my admin account.\\nIt wouldn’t make sense for others to see the admin account as Organizer. Is there any way for him to set himself as Organizer rather than our Microsoft 365 Global Admin account. Can the Organizer default to the person creating the calendar item rather than the Global Admin account?',\n",
       "  'I’ve setup an automation which should get triggered by Pipedrives “watch deals”.\\nSpecifically I want to trigger the automation when a Pipedrive deal gets moved to the stage “Deal Review”.\\nDuring development it worked fine (using the “run once” feature).\\nBut when I turn on the scenario and move a deal into the stage it doesn’t get triggered.\\nThis is what the trigger looks like:\\nAny idea what the issue is?',\n",
       "  'Hello everyone, I’ve been trying to solve a problem with an automation for 2 days and I hope someone can help me.\\nI want to create a zap so that when a new task is added to a project, a folder is automatically created in drive, but I also want a subtask to be created within this main task, but also within the subtask in the description there is the link to the folder that was created previously.\\nThe first step of creating the folder is completed satisfactorily, but the problem is that when the sub task is created and the link is put in the description, the zap starts to loop and creates tasks outside of the main task with the name of the subtask.\\nI already spoke to Zapier support and they were unable to solve it since they tell me that the zap loops because in the action of creating a subtask it does not automatically find the parent task ID of the main task (as shown below) and the asana support team also does not give me a solution.\\nI would appreciate any help on this issue or if it is possible to do it in another way to do this automation.',\n",
       "  'We are using Asana for our company wide project management incl. our dev team. For deployment we are using Bamboo and we wish to have a connection between Asana and Bamboo. The goal is to integrate tickets and releases, similar to what Jira does. Does anyone have best practices?',\n",
       "  'Do you find Asana’s built-in time tracking reports too limiting? I just wanted to let you know that Screenful 3 now supports the Estimated time and Actual time fields, and you can create charts and reports using data in those fields.\\nIf you have enabled time tracking on any of your Asana projects, the Estimated time and Actual time will be automatically imported and made available for Screenful charts. You can create charts based on time tracking data in the same way you create charts based on task data. You have all the same grouping and filtering options available.\\nCreate time tracking reports across all of your projects\\nGroup and filter charts by who logged time\\nSee how much time was logged by individual by task\\nSchedule reports to email or Slack\\nLearn more about time tracking reports or start a free trial 1 to give it a try with your own data.',\n",
       "  'Hey there,\\nI just installed the Jira Cloud Data Sync Integration for Asana, and it’s a nice integration that will definitely help create more transparency between tech and non-tech teams!\\nHere’s how I set it up:\\nI connected one (new) Asana project to an (existing) Jira project.\\nI set up a one-way sync from Jira to Asana for creation and updates.\\nI created a ticket in Jira, and it successfully synced to Asana\\nQuestion:\\nThe existing Jira project already has a lot of tickets. Is there a way to import, sync, or populate these existing tickets into Asana?\\nI look forward to hearing from you. Thank you in advance!',\n",
       "  'Was looking for an APIs or integrations of phone/VOIP system or software that automatically creates a ASANA task.',\n",
       "  'Hello,\\nin Salesforce, I created a screen flow in order to create an Asana Project from a custom object.\\nThe flow is launched from a button.\\nMy problem is : whoever launch the flow, the Asana project owner is me.\\nEach Salesforce user has an Asana account and has set the connection between Salesforce and Asana.\\nHow to change that ? The Asana project owner must be the Salesforce user who launch the flow.\\nRegards,\\nXavier',\n",
       "  'Hello!\\nMany departments within my company have been using one specific Asana events calendar to stay up to date on major project dates. We have been utilizing the Asana-to-Outlook syncing capability for years, which has been helpful and effective in sharing this events calendar with the greater staff. However, recently, the Outlook calendar has stopped updating as we make changes to dates and content in the original Asana calendar.\\nMany of these departments rely on getting this information solely on through their Outlook calendars. We have found that manually unsubscribing an individual account from the Asana calendar (in Outlook) and then re-syncing the two calendars has fixed the problem. However, there are upward of 100 employees that use this calendar through Outlook. Asking each individual to do this process on their own is not ideal. We also do not have the staff or time to do this step for each of the necessary individuals.\\nAny alternative solutions would be greatly appreciated! Thank you!',\n",
       "  'I’d like to use the Slack integration rules to remind colleagues who aren’t in Asana daily about upcoming and overdue tasks. However, it seems like there are major limitations to both the recipient options and triggers.\\nHas anyone found a way to make either of the below scenarios work with the Slack integration rules?\\nWith the “send a direct message” rule, send that DM go to the task assignee.\\nWith the “send a channel message” rule, use project sections as part of the trigger. For example, only send a channel message for tasks overdue tasks in Section A.',\n",
       "  'I was wondering if anyone had any suggestions on how to create a workflow that needs to constantly get zapier related task updates. The Zap will send the entire record and unfortunately, it seems Asana treats the new information as a change to every field that has information.\\nI want an update from NULL to a date to trigger an action like creating a task, but I don’t want a task triggered when it updates from DateX to DateX.\\nI was hoping to use a number field that I could inspect based on the stage of the task so that it wouldn’t repeat things that it already did. I don’t see the # custom fields showing up as fields you can do rules based on the number < x.\\nRight now, i am creating a custom status field for every field and checking if it is blank before doing the action and then updating the custom field to YES so it doesn’t repeat.\\nAlso a text field has up to 4 different letters in it. It would be wonderful to have a rule inspect the text field and do things based on the value. Right now i have it create a task for me to manually inspect it and multihome it for each letter it has.\\nAny suggestions much appreciated.\\nThanks!\\nAnyone else have experience with Zap updates helping the workflow?',\n",
       "  'Asana2Go 1.9k is a popular multi-purpose tool that allows you to copy, export (CSV for Excel and Google Sheets, JSON), and print (or save to PDF) from Asana flexibly.\\nTo see what it can do, and how to use it, watch this video 1.4k.\\nNovices: Just select your tasks and a predefined report format and go. Experts: Create your own formats, essentially giving you access to the power of the Asana API without a complex programming language – use Markdown or HTML and a templating language with built-in editing helpers and examples.\\nAsana2Go addresses requests regularly seen here in the Community including many of those in this thread. It works with both free and premium Asana accounts, reads but does not write/modify anything in your Asana, and as a Chrome Extension (also works on the MS Edge browser) requires no extra login/authentication.\\nInitial beta testers (thank you!) have liked the tool, so now I’m opening up the beta and looking forward to hearing what you think and seeing what you do with this new tool (feel free to use Export to send me any interesting formats you make!).\\nAs an intensive Asana user since 2012. I created Asana2Go for my own use and for my clients. Asana2Go is released with assistance (thanks @Bastien_Siebman) from the Asana Micro Incubator 23 project and is part of the Asana Superheroes toolbox 116.\\nThanks,\\nLarry Berger\\nTrilogi Software: Asana Consulting 18\\nPS Asana2Go has no direct affiliation with Asana the company.\\nPPS Output from two of the predefined report formats appears below:',\n",
       "  'Hi all,\\nIs there a way you can link a folder from Google drive into a task? Currently, I only see the option of linking specific files.\\nI think it will be a great feature to add if more people see value in this.',\n",
       "  'Hi\\nI am getting the following error message when adding an Asana board to a Microsoft Teams tab. (In case the image does not appear properly, it says’ This browser is not supported).\\nFor context, I am using the Asana integration in Microsoft Teams and am using the new Teams app:\\nUsing a workaround, whereby I use the online link to the browser add in and add the website link to the Asana board, did not work.',\n",
       "  'As of this morning my Team calendar properly showed the due dates for all the tasks assigned throughout our collective projects. Today I created a new rule in each project that would trigger a Google Calendar event to be made each time a task was moved to a certain section (I’m trying to figure out a solve for maintaining only one calendar between internal staff and external vendors who don’t have access to Asana). It seems like that did something because now my calendar only shows a handful of the due dates on the Team calendar. It appears to be a bug from browsing the forum. Am I able to get help with this? Thank you!']]"
      ]
     },
     "execution_count": 58,
     "metadata": {},
     "output_type": "execute_result"
    }
   ],
   "source": [
    "empty_list"
   ]
  },
  {
   "cell_type": "code",
   "execution_count": 89,
   "metadata": {},
   "outputs": [],
   "source": [
    "bools = []\n",
    "\n",
    "def evaluate_unito_candidates(bool_list: list) -> list:\n",
    "    bools.append(bool_list)"
   ]
  },
  {
   "cell_type": "code",
   "execution_count": 110,
   "metadata": {},
   "outputs": [],
   "source": [
    "total_characters = 95000\n",
    "total = len(''.join(post['body'] for post in posts))\n",
    "split_posts = []\n",
    "\n",
    "if total_characters > 32000:\n",
    "    split_amount = math.ceil(total_characters / 32000)\n",
    "\n",
    "insert_index = 0\n",
    "full_loop_exit = False\n",
    "\n",
    "for i in range(split_amount):\n",
    "    if full_loop_exit:\n",
    "        break\n",
    "    else:\n",
    "        split_posts.append([posts[insert_index]['body']])\n",
    "        chunk_check = [posts[insert_index]['body']]\n",
    "        new_loop = True\n",
    "        while len(''.join([post for post in split_posts[i]])) < 32000 and not full_loop_exit and new_loop:\n",
    "            for index, post in enumerate(posts[insert_index+1:]):\n",
    "                split_posts[i].append(post['body'])\n",
    "                chunk_check.append(post['body'])\n",
    "                chunk_check.append(posts[index+1]['body'])\n",
    "                if len(''.join(chunk_check)) >= 32000:\n",
    "                    insert_index += index\n",
    "                    new_loop = False\n",
    "                    break\n",
    "                elif len(''.join(split_posts[i])) == total:\n",
    "                    full_loop_exit = True\n",
    "                    break\n",
    "                else:\n",
    "                    del chunk_check[-1]"
   ]
  },
  {
   "cell_type": "code",
   "execution_count": 117,
   "metadata": {},
   "outputs": [
    {
     "data": {
      "text/plain": [
       "[['Ask all your questions about Asana integrations 83!',\n",
       "  'Hi. I’m connecting Google Sheets and Asana, using Zapier. In both the Asana projec and the Google Sheet I have a mult-select field for “Assets”. I get the following error, how do I get the custom field values ID? I’m a project manager, not a developer.\\nThanks!\\nFailed to create a task in Asana\\nThe app returned “multi_enum_values: [0]: Not a recognized ID: Asset example”.\\nThe error message “multi_enum_values: [0]: Not a recognized ID: Asset example” indicates that the value “Asset examples” is not a valid ID for the custom field you are trying to update in Asana. This typically happens when the custom field expects a specific set of predefined options (IDs) and the provided value does not match any of these options.\\nTo resolve this issue, you need to ensure that the value you are passing to the custom field is a valid ID recognized by Asana. You can do this by fetching the list of valid IDs for the custom field from Asana and then using one of these IDs in your Zap. Here’s how you can do it:\\nFetch Valid IDs: Use Asana’s API to get the list of valid IDs for the custom field. You can do this by making a GET request to the custom field endpoint.\\nUpdate Zap: Once you have the valid IDs, update your Zap to use one of these IDs instead of “CIAM for Dummies”. You can use a Lookup Table in Zapier to map the human-readable values to the corresponding IDs.\\nFor example, if you have a custom field with options like “Option A” (ID: 12345) and “Option B” (ID: 67890), you would replace “Asset example” with the appropriate ID (e.g., 12345). This ensures that the value you are passing is recognized by Asana.',\n",
       "  'Hi Guys,\\nAs Admin I setup G Suite then added Asana from the Marketplace.\\nBeen login in using “Use Google Account” and everything works fine until I need to attach a file from Google drive, using the attach button in Tasks. This is the error we get: “Attach Google Files - Sorry, we were unable to connect to Google. Please try again later.”\\nIs there something I’m missing/doing wrong? any fix?\\nThanks\\nJT',\n",
       "  'Hi all!\\nI have been trying to connect Asana with Lucid Chart, Lucid Spark, and gmail. I first was trying to connect Asana and Lucid Spark and it kept routing me to a blank, white page in Chrome and wouldn’t go any further than that. I tried clicking the “nothing happening? try again” button in the loading asana page but still nothing. I assumed it was a one off but tried with both Lucid Chart and email and it did the same for those as well.\\nHas anyone else has this issue? Any advice?\\nThank you!',\n",
       "  'Hey all,\\nHow can we @mention users via Zapier Action: Create story?\\nThanks',\n",
       "  'I’m an Microsoft 365 admin and have added admin consent in Entra to allow Asana for Outlook Calendar to talk to Microsoft 365. One staff person is testing this and when he adds a calendar item to a task it’s showing that the Organizer is my admin account.\\nIt wouldn’t make sense for others to see the admin account as Organizer. Is there any way for him to set himself as Organizer rather than our Microsoft 365 Global Admin account. Can the Organizer default to the person creating the calendar item rather than the Global Admin account?',\n",
       "  'I’ve setup an automation which should get triggered by Pipedrives “watch deals”.\\nSpecifically I want to trigger the automation when a Pipedrive deal gets moved to the stage “Deal Review”.\\nDuring development it worked fine (using the “run once” feature).\\nBut when I turn on the scenario and move a deal into the stage it doesn’t get triggered.\\nThis is what the trigger looks like:\\nAny idea what the issue is?',\n",
       "  'Hello everyone, I’ve been trying to solve a problem with an automation for 2 days and I hope someone can help me.\\nI want to create a zap so that when a new task is added to a project, a folder is automatically created in drive, but I also want a subtask to be created within this main task, but also within the subtask in the description there is the link to the folder that was created previously.\\nThe first step of creating the folder is completed satisfactorily, but the problem is that when the sub task is created and the link is put in the description, the zap starts to loop and creates tasks outside of the main task with the name of the subtask.\\nI already spoke to Zapier support and they were unable to solve it since they tell me that the zap loops because in the action of creating a subtask it does not automatically find the parent task ID of the main task (as shown below) and the asana support team also does not give me a solution.\\nI would appreciate any help on this issue or if it is possible to do it in another way to do this automation.',\n",
       "  'We are using Asana for our company wide project management incl. our dev team. For deployment we are using Bamboo and we wish to have a connection between Asana and Bamboo. The goal is to integrate tickets and releases, similar to what Jira does. Does anyone have best practices?',\n",
       "  'Do you find Asana’s built-in time tracking reports too limiting? I just wanted to let you know that Screenful 3 now supports the Estimated time and Actual time fields, and you can create charts and reports using data in those fields.\\nIf you have enabled time tracking on any of your Asana projects, the Estimated time and Actual time will be automatically imported and made available for Screenful charts. You can create charts based on time tracking data in the same way you create charts based on task data. You have all the same grouping and filtering options available.\\nCreate time tracking reports across all of your projects\\nGroup and filter charts by who logged time\\nSee how much time was logged by individual by task\\nSchedule reports to email or Slack\\nLearn more about time tracking reports or start a free trial 1 to give it a try with your own data.',\n",
       "  'Hey there,\\nI just installed the Jira Cloud Data Sync Integration for Asana, and it’s a nice integration that will definitely help create more transparency between tech and non-tech teams!\\nHere’s how I set it up:\\nI connected one (new) Asana project to an (existing) Jira project.\\nI set up a one-way sync from Jira to Asana for creation and updates.\\nI created a ticket in Jira, and it successfully synced to Asana\\nQuestion:\\nThe existing Jira project already has a lot of tickets. Is there a way to import, sync, or populate these existing tickets into Asana?\\nI look forward to hearing from you. Thank you in advance!',\n",
       "  'Was looking for an APIs or integrations of phone/VOIP system or software that automatically creates a ASANA task.',\n",
       "  'Hello,\\nin Salesforce, I created a screen flow in order to create an Asana Project from a custom object.\\nThe flow is launched from a button.\\nMy problem is : whoever launch the flow, the Asana project owner is me.\\nEach Salesforce user has an Asana account and has set the connection between Salesforce and Asana.\\nHow to change that ? The Asana project owner must be the Salesforce user who launch the flow.\\nRegards,\\nXavier',\n",
       "  'Hello!\\nMany departments within my company have been using one specific Asana events calendar to stay up to date on major project dates. We have been utilizing the Asana-to-Outlook syncing capability for years, which has been helpful and effective in sharing this events calendar with the greater staff. However, recently, the Outlook calendar has stopped updating as we make changes to dates and content in the original Asana calendar.\\nMany of these departments rely on getting this information solely on through their Outlook calendars. We have found that manually unsubscribing an individual account from the Asana calendar (in Outlook) and then re-syncing the two calendars has fixed the problem. However, there are upward of 100 employees that use this calendar through Outlook. Asking each individual to do this process on their own is not ideal. We also do not have the staff or time to do this step for each of the necessary individuals.\\nAny alternative solutions would be greatly appreciated! Thank you!',\n",
       "  'I’d like to use the Slack integration rules to remind colleagues who aren’t in Asana daily about upcoming and overdue tasks. However, it seems like there are major limitations to both the recipient options and triggers.\\nHas anyone found a way to make either of the below scenarios work with the Slack integration rules?\\nWith the “send a direct message” rule, send that DM go to the task assignee.\\nWith the “send a channel message” rule, use project sections as part of the trigger. For example, only send a channel message for tasks overdue tasks in Section A.',\n",
       "  'I was wondering if anyone had any suggestions on how to create a workflow that needs to constantly get zapier related task updates. The Zap will send the entire record and unfortunately, it seems Asana treats the new information as a change to every field that has information.\\nI want an update from NULL to a date to trigger an action like creating a task, but I don’t want a task triggered when it updates from DateX to DateX.\\nI was hoping to use a number field that I could inspect based on the stage of the task so that it wouldn’t repeat things that it already did. I don’t see the # custom fields showing up as fields you can do rules based on the number < x.\\nRight now, i am creating a custom status field for every field and checking if it is blank before doing the action and then updating the custom field to YES so it doesn’t repeat.\\nAlso a text field has up to 4 different letters in it. It would be wonderful to have a rule inspect the text field and do things based on the value. Right now i have it create a task for me to manually inspect it and multihome it for each letter it has.\\nAny suggestions much appreciated.\\nThanks!\\nAnyone else have experience with Zap updates helping the workflow?',\n",
       "  'Asana2Go 1.9k is a popular multi-purpose tool that allows you to copy, export (CSV for Excel and Google Sheets, JSON), and print (or save to PDF) from Asana flexibly.\\nTo see what it can do, and how to use it, watch this video 1.4k.\\nNovices: Just select your tasks and a predefined report format and go. Experts: Create your own formats, essentially giving you access to the power of the Asana API without a complex programming language – use Markdown or HTML and a templating language with built-in editing helpers and examples.\\nAsana2Go addresses requests regularly seen here in the Community including many of those in this thread. It works with both free and premium Asana accounts, reads but does not write/modify anything in your Asana, and as a Chrome Extension (also works on the MS Edge browser) requires no extra login/authentication.\\nInitial beta testers (thank you!) have liked the tool, so now I’m opening up the beta and looking forward to hearing what you think and seeing what you do with this new tool (feel free to use Export to send me any interesting formats you make!).\\nAs an intensive Asana user since 2012. I created Asana2Go for my own use and for my clients. Asana2Go is released with assistance (thanks @Bastien_Siebman) from the Asana Micro Incubator 23 project and is part of the Asana Superheroes toolbox 116.\\nThanks,\\nLarry Berger\\nTrilogi Software: Asana Consulting 18\\nPS Asana2Go has no direct affiliation with Asana the company.\\nPPS Output from two of the predefined report formats appears below:',\n",
       "  'Hi all,\\nIs there a way you can link a folder from Google drive into a task? Currently, I only see the option of linking specific files.\\nI think it will be a great feature to add if more people see value in this.',\n",
       "  'Hi\\nI am getting the following error message when adding an Asana board to a Microsoft Teams tab. (In case the image does not appear properly, it says’ This browser is not supported).\\nFor context, I am using the Asana integration in Microsoft Teams and am using the new Teams app:\\nUsing a workaround, whereby I use the online link to the browser add in and add the website link to the Asana board, did not work.',\n",
       "  'As of this morning my Team calendar properly showed the due dates for all the tasks assigned throughout our collective projects. Today I created a new rule in each project that would trigger a Google Calendar event to be made each time a task was moved to a certain section (I’m trying to figure out a solve for maintaining only one calendar between internal staff and external vendors who don’t have access to Asana). It seems like that did something because now my calendar only shows a handful of the due dates on the Team calendar. It appears to be a bug from browsing the forum. Am I able to get help with this? Thank you!']]"
      ]
     },
     "execution_count": 117,
     "metadata": {},
     "output_type": "execute_result"
    }
   ],
   "source": [
    "split_posts"
   ]
  },
  {
   "cell_type": "code",
   "execution_count": 115,
   "metadata": {},
   "outputs": [
    {
     "name": "stdout",
     "output_type": "stream",
     "text": [
      "0\n"
     ]
    }
   ],
   "source": [
    "for i in range(len(split_posts)):\n",
    "    print(i)"
   ]
  },
  {
   "cell_type": "code",
   "execution_count": 118,
   "metadata": {},
   "outputs": [],
   "source": [
    "for i in range(len(split_posts)):\n",
    "    response = client.chat.completions.create(\n",
    "        model='gpt-4o-mini',\n",
    "        messages=[\n",
    "            {'role': 'system', 'content': instructions},\n",
    "            {'role': 'user', 'content': f'{split_posts[i]}'}\n",
    "        ],\n",
    "        tools=[evaluate_unito_candidates_function]\n",
    "    )"
   ]
  },
  {
   "cell_type": "code",
   "execution_count": 127,
   "metadata": {},
   "outputs": [],
   "source": [
    "bools =json.loads(response.choices[0].message.tool_calls[0].function.arguments)['bool_list']"
   ]
  },
  {
   "cell_type": "code",
   "execution_count": 135,
   "metadata": {},
   "outputs": [
    {
     "data": {
      "text/plain": [
       "22"
      ]
     },
     "execution_count": 135,
     "metadata": {},
     "output_type": "execute_result"
    }
   ],
   "source": [
    "len(bools)"
   ]
  },
  {
   "cell_type": "code",
   "execution_count": 13,
   "metadata": {},
   "outputs": [],
   "source": [
    "messages = filter_posts_bulk(posts)"
   ]
  },
  {
   "cell_type": "code",
   "execution_count": 132,
   "metadata": {},
   "outputs": [],
   "source": [
    "filtered_posts = [post for post, bool in zip(posts, bools) if bool]"
   ]
  },
  {
   "cell_type": "code",
   "execution_count": 136,
   "metadata": {},
   "outputs": [
    {
     "data": {
      "text/plain": [
       "[{'title': 'Integration with Outlook Calendar has wrong Organizer',\n",
       "  'url': 'https://forum.asana.com/t/integration-with-outlook-calendar-has-wrong-organizer/895016',\n",
       "  'body': 'I’m an Microsoft 365 admin and have added admin consent in Entra to allow Asana for Outlook Calendar to talk to Microsoft 365. One staff person is testing this and when he adds a calendar item to a task it’s showing that the Organizer is my admin account.\\nIt wouldn’t make sense for others to see the admin account as Organizer. Is there any way for him to set himself as Organizer rather than our Microsoft 365 Global Admin account. Can the Organizer default to the person creating the calendar item rather than the Global Admin account?'},\n",
       " {'title': 'Asana + Zapier + Google Drive',\n",
       "  'url': 'https://forum.asana.com/t/asana-zapier-google-drive/887590',\n",
       "  'body': 'Hello everyone, I’ve been trying to solve a problem with an automation for 2 days and I hope someone can help me.\\nI want to create a zap so that when a new task is added to a project, a folder is automatically created in drive, but I also want a subtask to be created within this main task, but also within the subtask in the description there is the link to the folder that was created previously.\\nThe first step of creating the folder is completed satisfactorily, but the problem is that when the sub task is created and the link is put in the description, the zap starts to loop and creates tasks outside of the main task with the name of the subtask.\\nI already spoke to Zapier support and they were unable to solve it since they tell me that the zap loops because in the action of creating a subtask it does not automatically find the parent task ID of the main task (as shown below) and the asana support team also does not give me a solution.\\nI would appreciate any help on this issue or if it is possible to do it in another way to do this automation.'},\n",
       " {'title': 'Integration for Bamboo',\n",
       "  'url': 'https://forum.asana.com/t/integration-for-bamboo/29416',\n",
       "  'body': 'We are using Asana for our company wide project management incl. our dev team. For deployment we are using Bamboo and we wish to have a connection between Asana and Bamboo. The goal is to integrate tickets and releases, similar to what Jira does. Does anyone have best practices?'},\n",
       " {'title': 'Import/sync/populate existing tickets from Jira to Asana?',\n",
       "  'url': 'https://forum.asana.com/t/import-sync-populate-existing-tickets-from-jira-to-asana/510744',\n",
       "  'body': 'Hey there,\\nI just installed the Jira Cloud Data Sync Integration for Asana, and it’s a nice integration that will definitely help create more transparency between tech and non-tech teams!\\nHere’s how I set it up:\\nI connected one (new) Asana project to an (existing) Jira project.\\nI set up a one-way sync from Jira to Asana for creation and updates.\\nI created a ticket in Jira, and it successfully synced to Asana\\nQuestion:\\nThe existing Jira project already has a lot of tickets. Is there a way to import, sync, or populate these existing tickets into Asana?\\nI look forward to hearing from you. Thank you in advance!'},\n",
       " {'title': 'Is there any phone systems or VOIP systems that integrate with Asana?',\n",
       "  'url': 'https://forum.asana.com/t/is-there-any-phone-systems-or-voip-systems-that-integrate-with-asana/862054',\n",
       "  'body': 'Was looking for an APIs or integrations of phone/VOIP system or software that automatically creates a ASANA task.'},\n",
       " {'title': 'Send Slack Direct Message to Task Assignee',\n",
       "  'url': 'https://forum.asana.com/t/send-slack-direct-message-to-task-assignee/279770',\n",
       "  'body': 'I’d like to use the Slack integration rules to remind colleagues who aren’t in Asana daily about upcoming and overdue tasks. However, it seems like there are major limitations to both the recipient options and triggers.\\nHas anyone found a way to make either of the below scenarios work with the Slack integration rules?\\nWith the “send a direct message” rule, send that DM go to the task assignee.\\nWith the “send a channel message” rule, use project sections as part of the trigger. For example, only send a channel message for tasks overdue tasks in Section A.'},\n",
       " {'title': 'Asana2Go: Copy, export, and print from Asana flexibly (Free for most users/companies)',\n",
       "  'url': 'https://forum.asana.com/t/asana2go-copy-export-and-print-from-asana-flexibly-free-for-most-users-companies/25392',\n",
       "  'body': 'Asana2Go 1.9k is a popular multi-purpose tool that allows you to copy, export (CSV for Excel and Google Sheets, JSON), and print (or save to PDF) from Asana flexibly.\\nTo see what it can do, and how to use it, watch this video 1.4k.\\nNovices: Just select your tasks and a predefined report format and go. Experts: Create your own formats, essentially giving you access to the power of the Asana API without a complex programming language – use Markdown or HTML and a templating language with built-in editing helpers and examples.\\nAsana2Go addresses requests regularly seen here in the Community including many of those in this thread. It works with both free and premium Asana accounts, reads but does not write/modify anything in your Asana, and as a Chrome Extension (also works on the MS Edge browser) requires no extra login/authentication.\\nInitial beta testers (thank you!) have liked the tool, so now I’m opening up the beta and looking forward to hearing what you think and seeing what you do with this new tool (feel free to use Export to send me any interesting formats you make!).\\nAs an intensive Asana user since 2012. I created Asana2Go for my own use and for my clients. Asana2Go is released with assistance (thanks @Bastien_Siebman) from the Asana Micro Incubator 23 project and is part of the Asana Superheroes toolbox 116.\\nThanks,\\nLarry Berger\\nTrilogi Software: Asana Consulting 18\\nPS Asana2Go has no direct affiliation with Asana the company.\\nPPS Output from two of the predefined report formats appears below:'},\n",
       " {'title': 'Bug when adding Asana board in Teams channel Tab',\n",
       "  'url': 'https://forum.asana.com/t/bug-when-adding-asana-board-in-teams-channel-tab/829660',\n",
       "  'body': 'Hi\\nI am getting the following error message when adding an Asana board to a Microsoft Teams tab. (In case the image does not appear properly, it says’ This browser is not supported).\\nFor context, I am using the Asana integration in Microsoft Teams and am using the new Teams app:\\nUsing a workaround, whereby I use the online link to the browser add in and add the website link to the Asana board, did not work.'}]"
      ]
     },
     "execution_count": 136,
     "metadata": {},
     "output_type": "execute_result"
    }
   ],
   "source": [
    "filtered_posts"
   ]
  },
  {
   "cell_type": "code",
   "execution_count": 138,
   "metadata": {},
   "outputs": [
    {
     "name": "stdout",
     "output_type": "stream",
     "text": [
      "3085\n",
      "38\n"
     ]
    }
   ],
   "source": [
    "print(response.usage.total_tokens)\n",
    "print(response.usage.completion_tokens)"
   ]
  },
  {
   "cell_type": "markdown",
   "metadata": {},
   "source": []
  },
  {
   "cell_type": "code",
   "execution_count": 8,
   "metadata": {},
   "outputs": [
    {
     "name": "stdout",
     "output_type": "stream",
     "text": [
      "poo \n",
      "lol \n",
      "pee \n",
      "pee \n",
      "lol \n",
      "poo \n",
      "pee \n",
      "lol \n",
      "poo \n",
      "poo \n",
      "pee \n",
      "lol \n",
      "pee \n",
      "pee \n",
      "pee \n",
      "lol \n",
      "pee \n",
      "lol \n",
      "poo \n",
      "pee \n",
      "lol \n",
      "poo \n",
      "lol \n",
      "poo \n",
      "poo \n",
      "lol \n",
      "poo \n",
      "lol \n",
      "pee \n",
      "pee \n",
      "poo \n",
      "lol \n",
      "pee \n",
      "pee \n",
      "lol \n",
      "poo \n",
      "lol \n",
      "pee \n",
      "lol \n",
      "pee \n",
      "pee \n",
      "poo \n",
      "pee \n",
      "pee \n",
      "lol \n",
      "pee \n",
      "lol \n",
      "poo \n",
      "lol \n",
      "poo \n",
      "lol \n",
      "poo \n",
      "lol \n",
      "poo \n",
      "lol \n",
      "pee \n",
      "lol \n",
      "pee \n",
      "lol \n",
      "pee \n",
      "pee \n",
      "poo \n",
      "lol \n",
      "poo \n",
      "poo \n",
      "lol \n",
      "poo \n",
      "lol \n",
      "pee \n",
      "pee \n",
      "lol \n",
      "poo \n",
      "lol \n",
      "pee \n",
      "47\n"
     ]
    }
   ],
   "source": [
    "count = 0\n",
    "total = 0\n",
    "\n",
    "while count < 20:\n",
    "\n",
    "    rand1 = bool(random.randint(0,1))\n",
    "    rand2 = bool(random.randint(0,1))\n",
    "\n",
    "    try:\n",
    "        if rand1:\n",
    "            print('pee ')\n",
    "            if rand2:\n",
    "                count += 1\n",
    "            else:\n",
    "                print('lol ')\n",
    "        else:\n",
    "            print('poo ')\n",
    "            if rand2:\n",
    "                count += 1\n",
    "            else:\n",
    "                print('lol ')\n",
    "\n",
    "        total += 1\n",
    "\n",
    "    except Exception as e:\n",
    "        print(f'Error: {e}')\n",
    "\n",
    "print(total)"
   ]
  }
 ],
 "metadata": {
  "kernelspec": {
   "display_name": "the_bastion",
   "language": "python",
   "name": "python3"
  },
  "language_info": {
   "codemirror_mode": {
    "name": "ipython",
    "version": 3
   },
   "file_extension": ".py",
   "mimetype": "text/x-python",
   "name": "python",
   "nbconvert_exporter": "python",
   "pygments_lexer": "ipython3",
   "version": "3.10.6"
  }
 },
 "nbformat": 4,
 "nbformat_minor": 2
}
