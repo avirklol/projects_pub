{
 "cells": [
  {
   "cell_type": "code",
   "execution_count": 1,
   "metadata": {},
   "outputs": [],
   "source": [
    "# Imports\n",
    "from bs4 import BeautifulSoup as bs\n",
    "import requests\n",
    "import re\n",
    "import time\n",
    "import random\n",
    "import langchain\n",
    "import langchain_community\n",
    "import langchain_core\n",
    "import langchain_openai"
   ]
  },
  {
   "cell_type": "code",
   "execution_count": 2,
   "metadata": {},
   "outputs": [],
   "source": [
    "url = 'https://community.atlassian.com/?sort=recent'\n",
    "post_title_class = 'atl-post-list__tile__title'\n",
    "post_body_class = 'lia-message-body-content'"
   ]
  },
  {
   "cell_type": "code",
   "execution_count": 3,
   "metadata": {},
   "outputs": [],
   "source": [
    "def fetch_html(url):\n",
    "    response = requests.get(url)\n",
    "    if response.status_code == 200:\n",
    "        return response.text\n",
    "    else:\n",
    "        print('Error fetching HTML!')\n",
    "        return None"
   ]
  },
  {
   "cell_type": "code",
   "execution_count": 4,
   "metadata": {},
   "outputs": [],
   "source": [
    "def pull_forum_posts(pages: int = 1):\n",
    "\n",
    "    global post_title_class\n",
    "\n",
    "    if not isinstance(pages, int):\n",
    "        raise TypeError('The \"pages\" parameter must be an integer.')\n",
    "\n",
    "    posts = []\n",
    "\n",
    "    for i in range(1, pages + 1):\n",
    "\n",
    "        url = f'https://community.atlassian.com/?sort=recent&page={i}'\n",
    "        soup = bs(fetch_html(url), 'lxml')\n",
    "\n",
    "        for post in soup.find_all(class_=post_title_class):\n",
    "\n",
    "            post_data = {}\n",
    "\n",
    "            post_data['title'] = post.find('a').get_text().strip()\n",
    "            post_data['url'] = 'https://community.atlassian.com' + post.find('a')['href']\n",
    "\n",
    "            posts.append(post_data)\n",
    "\n",
    "        time.sleep(1)\n",
    "\n",
    "    return posts\n"
   ]
  },
  {
   "cell_type": "code",
   "execution_count": 5,
   "metadata": {},
   "outputs": [],
   "source": [
    "def pull_post_body(posts: list):\n",
    "\n",
    "    global post_body_class\n",
    "\n",
    "    if not isinstance(posts, list):\n",
    "        raise TypeError('The \"posts\" parameter must be a list.')\n",
    "\n",
    "    full_post_data = []\n",
    "\n",
    "    for post in posts:\n",
    "\n",
    "        post_data = {}\n",
    "\n",
    "        soup = bs(fetch_html(post['url']), 'lxml')\n",
    "\n",
    "        post_data['title'] = post['title']\n",
    "        post_data['url'] = post['url']\n",
    "        post_data['body'] = soup.find('div', class_=post_body_class).get_text().strip()\n",
    "\n",
    "        full_post_data.append(post_data)\n",
    "\n",
    "        time.sleep(random.randint(1, 3))\n",
    "\n",
    "    return full_post_data"
   ]
  },
  {
   "cell_type": "code",
   "execution_count": 6,
   "metadata": {},
   "outputs": [],
   "source": [
    "def full_pull(pages: int = 1):\n",
    "    start_time = time.time()\n",
    "    posts = pull_forum_posts(pages)\n",
    "    post_pull_time = time.time() - start_time\n",
    "    print(f'Pulled post titles and URLs. [{post_pull_time:.2f} seconds] \\nProceeding to pull post bodies...')\n",
    "    full_posts = pull_post_body(posts)\n",
    "    body_pull_time = time.time() - start_time - post_pull_time\n",
    "    print(f'Pulled post bodies. [{body_pull_time:.2f} seconds]\\n[{time.time() - start_time:.2f} seconds]')\n",
    "\n",
    "    return full_posts"
   ]
  },
  {
   "cell_type": "code",
   "execution_count": 9,
   "metadata": {},
   "outputs": [
    {
     "name": "stdout",
     "output_type": "stream",
     "text": [
      "Pulled post titles and URLs. [2.11 seconds] \n",
      "Proceeding to pull post bodies...\n",
      "Pulled post bodies. [50.28 seconds]\n",
      " OP TIME: 52.39 seconds\n"
     ]
    }
   ],
   "source": [
    "one_page = full_pull(1)"
   ]
  },
  {
   "cell_type": "code",
   "execution_count": 10,
   "metadata": {},
   "outputs": [
    {
     "data": {
      "text/plain": [
       "[{'title': 'Can you create a Bitbucket project from the API using an HTTP access token?',\n",
       "  'url': 'https://community.atlassian.com/t5/Bitbucket-questions/Can-you-create-a-Bitbucket-project-from-the-API-using-an-HTTP/qaq-p/2757616',\n",
       "  'body': \"I'm trying to use the atlassian-python-api to manage may Bitbucket projects and repositories and I'm running into an issue where it says I don't have permission. I created my HTTP access token with project admin and repository admin. I'm trying to avoid using my password, but it appears the tokens may only be good for within a project?Has anyone done this before, and if so can you provide some suggestions on what I may be doing wrong?Thanks!\"},\n",
       " {'title': 'Creating a simpler card from an existing card',\n",
       "  'url': 'https://community.atlassian.com/t5/Trello-questions/Creating-a-simpler-card-from-an-existing-card/qaq-p/2757614',\n",
       "  'body': 'when a card from another board is automated to copy into a list on a different board, can you create an automation to create a simpler card with less information in a list on the board it was just copied too?'},\n",
       " {'title': 'I want to change the date format in Jira Asset',\n",
       "  'url': 'https://community.atlassian.com/t5/Jira-questions/I-want-to-change-the-date-format-in-Jira-Asset/qaq-p/2757612',\n",
       "  'body': 'Hi, I am creating an inventory in Jira Assets, and any date fields as \"Assigned on\" or \"Purchase date\" appear in the date format MMM/dd/yy, e.g. Jul 17, 2024. I would like them to appear in ISO 8601 format yyyy/MM/dd, e.g. 2024/07/17. It doesn\\'t matter if it appears as 2024/Jul/17. I have not been able to change it from Cog icon > System > General configuration > Advanced settings, where you can change the format of the date picker, nor from Cog icon > System > Look and feel.\\xa0\\xa0Is there any other way to change this date format?'},\n",
       " {'title': 'How to Make a Field Updateable on Unassigned Queue Screen',\n",
       "  'url': 'https://community.atlassian.com/t5/Jira-questions/How-to-Make-a-Field-Updateable-on-Unassigned-Queue-Screen/qaq-p/2757608',\n",
       "  'body': \"We are using labels to pre-assign incidents and service requests to different groups within our IT department.\\xa0 I am wondering if there is a way to make the Labels field updateable from the unassigned queue (or any queue) so that we don't have to select each incident, add the appropriate label, save it then close the incident?\\xa0 From our queue we can assign the ticket to one of our technicians or change the status.\\xa0 Is there a way to allow the Labels field to be editable (via the drop-down list) in a similar fashion?\"},\n",
       " {'title': 'Codeium product questions',\n",
       "  'url': 'https://community.atlassian.com/t5/Bitbucket-questions/Codeium-product-questions/qaq-p/2757606',\n",
       "  'body': 'Is there someone at Codeium I can speak to on the phone? We have some questions I need answered about the product and an Enterprise license. I used their form. Hoping to escalate getting a phone call;).\\xa0Codeium · Free AI Code Completion & Chat\\xa0Codeium | Atlassian Marketplace-Paul'},\n",
       " {'title': 'How to send PAYLOAD_FILE in slack pipe',\n",
       "  'url': 'https://community.atlassian.com/t5/Bitbucket-questions/How-to-send-PAYLOAD-FILE-in-slack-pipe/qaq-p/2757601',\n",
       "  'body': 'pipelines: default:- step: name: Notify Slackscript: - apt-get update && apt-get install gettext-base- envsubst < \"payload.json.template\" > \"payload.json\"- pipe: atlassian/slack-notify:2.3.0variables:WEBHOOK_URL: $WEBHOOK_URLPAYLOAD_FILE: payload.jsonCHANEEL: \\'#dev\\'\\xa0\\xa0With these variables set and the exact correct payload.json.template of the correct format, the pipe crashes with an error\\xa0Digest: sha256:b198a727fadf804c850a76adb13e5bb7cc58c56c526dc6425d254cbc860d7ea083Status: Downloaded newer image for bitbucketpipelines/slack-notify:2.3.084INFO: Starting with payload provided in PAYLOAD_FILE...85INFO: Sending notification to Slack86✖ Notification failed. Pipe has finished with an error: Invalid URL \\'\\': No scheme supplied. Perhaps you meant https://?Could you please advise how to make this work? Normal messages are sent'},\n",
       " {'title': 'Rule triggered by another rule',\n",
       "  'url': 'https://community.atlassian.com/t5/Jira-questions/Rule-triggered-by-another-rule/qaq-p/2757596',\n",
       "  'body': 'I want to create an automation to transition (unblock) issues when their blocker issue gets Done/Closed.For context, I have an issue that is blocking other issues (linkedType is blocks --> Issue A blocks Issue B).When Issue A status is transitioned to Done I need to unblock Issue B, meaning I need Issue B to transition from Blocked to To Do.Issue A and B are related by a link type named \"blocks\" when seeing it from Issue A and named \"is blocked by\" when seeing it from Issue BIssue A blocks Issue BIssue B is blocked by Issue AHow can I do that with automation?\\xa0I was hoping I could use the Related issues condition, but I\\'m approaching this from the triggering issue\\'s perspective and I\\'m not able to transition the linked issues.\\xa0I\\'m not able to figure out a way to run this rule from the linked issues perspective bc all I can think of as a solution would be to create a rule that will trigger another rule. Rule 1 will be triggered by Issue A\\'s transition and then that rule would trigger Rule 2 that will use the Related issues condition in the other direction, it will search for all Blocked issues where link type is \"blocks\", but even so, how will store the triggering issue.key from Rule 1?!I need help!! 😭'},\n",
       " {'title': 'Unable to see Organizations in Service Management project',\n",
       "  'url': 'https://community.atlassian.com/t5/Jira-Service-Management/Unable-to-see-Organizations-in-Service-Management-project/qaq-p/2757595',\n",
       "  'body': 'So I am going off this article here\\xa0Add an organization to a service project | Jira Service Management Cloud | Atlassian SupportThe problem is that following the article, I do not see the Customers option in service project settings.(talking about this specifically:From your service project, go to Customers.Select Add organizations.Add a new or existing organization by entering its name and selecting it in the dropdown.Press Add.)I am a site admin and added myself explicitly as a project administrator to this specific project.This is verified as a Jira Service Management project.\\xa0 It is Company-Managed (I am a Jira global admin).\\xa0 I had the option for agents to add organizations to projects turned on and then turned it off in Products - JSM - Configuration - Organization Management (no impact).No matter what I do, I just do not see the \"Customers\" option anywhere.'},\n",
       " {'title': '📣 New batch notifications and look-up capabilities⚡️🤖',\n",
       "  'url': 'https://community.atlassian.com/t5/Confluence-articles/New-batch-notifications-and-look-up-capabilities-%EF%B8%8F/ba-p/2757589',\n",
       "  'body': \"👋 Community! Elana from Confluence Automation here today with a super exciting announcement: You can now “batch” email notifications so that your team doesn’t get multiple emails from the same notification trigger!\\n\\xa0\\nWhat does this mean?\\nHave you ever accidentally spammed yourself or team members by creating an automation rule that sends an email for every page, action, or task found by a trigger?\\nWell no more! We've expanded our rule logic capabilities so that you can send a single email with all the content you need.\\nWe've also added new “look-up” actions and smart values that allow you to search through your pages and tasks without taking explicit action on them!\\n\\xa0\\nWhat does this look like?\\nLet’s run through an example\\nYou want to make sure all your content is up-to-date and relevant so that your team has the information they need. It's too tedious to manually search through every page, so you decide you want to create an automation rule that sends an email notification to inactive page owners about their stale content.\\nHow would you do this?\\n1. In the rule builder, you’d add a “When” trigger and input your desired schedule time.\\n\\n\\xa0\\n2. From there, you’d add a “Branch rule / for each inactive page” component. This branch will loop through all your pages and compile a list of the inactive ones.\\n\\n\\xa0\\n3. Then, we can add an advanced branch rule and input the smart value {{inactivePagesPerAuthor}} with the variable name authorInactivePages. This smart value will compile a list of lists with the inactive pages and their owners name. We will later use this smart value to send targeted emails.\\n\\n\\xa0\\n4. Next, we can add a condition that checks to ensure that the smart value is not empty. This will ensure that we don’t accidentally send an email with no recipient.\\n\\xa0\\n5. Almost done! Last step would be to add a “Then: send email” component. Input the variable “{{authorInactivePages.first().author.emailAddress}}” into the “To” section. This will find the inactive pages author’s email address and notify them about their stale content!\\n\\n\\n\\xa0 \\xa0 \\xa0\\nAdditional Updates \\nWe updated 4 rule templates to have “batching notifications” by default:\\xa0\\n\\nNotify people about inactive pages\\nRemind teammates about incomplete tasks when scheduled\\xa0\\nMark inactive verified pages ready for review and send an email when scheduled\\xa0\\nNotify people when a page passes a threshold of views\\xa0\\n\\n\\xa0\\nWe added new “page” and “task” look-up actions\\nNew “page” and “task” look up actions enable you to search through your space and compile a list of pages or tasks given a certain criteria. To use, navigate to “lookup pages” in the rule builder and select your desired component!\\nNew Look-Up Actions and Smart Values:\\n\\n{{lookupPagesPerOwner/Author}}\\n{{lookupTasks}}\\n{{lookupTasksPerAssignee}}\\n\\n\\xa0\\n\\nWhen will this be available?\\nThis is fully available and live for all Premium and Enterprise Confluence customers with automation enabled and we hope you find “batching” notifications valuable in your mission to always keep your content up to date!\\n\\xa0\\nWe want to hear from you! \\nWe’d love your feedback so please feel free to\\xa0schedule time with us directly here\\xa0or drop a comment on this post 🙏\"},\n",
       " {'title': 'Customers unable to use the user selections in the portal',\n",
       "  'url': 'https://community.atlassian.com/t5/Jira-Service-Management/Customers-unable-to-use-the-user-selections-in-the-portal/qaq-p/2757584',\n",
       "  'body': 'Hey all,\\xa0Just today it seems customers are not able to create a request on behalf of anyone else and cannot use user selection fields. I triple checked the global permissions and the project permissions AND the customer permissions. Based on what I have seen, nothing should be prohibiting them from seeing these selections. Nothing changed from yesterday to today other than the fact the can no longer use those fields. Any thoughts?'},\n",
       " {'title': 'Error pushing to commit due to file size',\n",
       "  'url': 'https://community.atlassian.com/t5/Bitbucket-questions/Error-pushing-to-commit-due-to-file-size/qaq-p/2757583',\n",
       "  'body': 'Pushing to bitbucket.org:accenttechnologies/accent-assist-mobile.gitremote: Repository is over the size limit (4 GB) and will not accept further additions. \\xa0 \\xa0 \\xa0 \\xa0remote:'},\n",
       " {'title': 'Unable to Edit Job Title on my Atlassian Account',\n",
       "  'url': 'https://community.atlassian.com/t5/Jira-questions/Unable-to-Edit-Job-Title-on-my-Atlassian-Account/qaq-p/2757574',\n",
       "  'body': 'Hi,\\xa0While reviewing my account details, I noticed that the field labeled \"Job Title\" is locked and I am unable to edit it. When I hover over the field, a message states, \"Your admin sets job title\". I am the current organization admin, so I should be able to edit it. Is it possible to edit this field at all?\\xa0The page where I am encountering this issue: https://id.atlassian.com/manage-profile/profile-and-visibility'},\n",
       " {'title': 'Bite-sized Learning: How end users can use Automation for Confluence with smart buttons!',\n",
       "  'url': 'https://community.atlassian.com/t5/Confluence-articles/Bite-sized-Learning-How-end-users-can-use-Automation-for/ba-p/2757564',\n",
       "  'body': \"G’day, Atlassian Community! 👋🏻 We’re back again with another installment of Bite-sized Learning - this time to share all of the pro tips for a new Automation for Confluence feature!\\nWith smart buttons, end users are now able to create their own automation rules from a predefined list and run the automation with a click of a button on the page.\\nAnd, as always, a Bite-sized Confluence Smart Buttons badge is also up for grabs as a part of the Kudos Program! Here are the details for how to learn & earn:\\n\\xa0\\n1) Watch guest lecturer\\xa0@Avinoam's video below, which guides you through how you can use Confluence smart buttons - available to you TODAY!\\n\\xa0\\n\\n\\xa0\\n2)\\xa0Take the short, 4-question quiz below!\\n\\xa0\\n\\n\\n\\n\\nNot seeing the quiz? Make sure that you are logged into Community and that you have joined our Kudos program.\\n\\nAnd that’s it! You've leveled up and now you’re a pro on how you can use smart buttons to automate your work today. Look at you go!\\nIf this Bite-sized Learning puts your brain into learning mode, check out all of the installments of the series below!\\nGive me more Bite-sized Learning!\\nHappy learning, and see you soon for the next installment! 💫\"},\n",
       " {'title': 'Is there any way to delete emails with the new OAuth 2.0?',\n",
       "  'url': 'https://community.atlassian.com/t5/Jira-questions/Is-there-any-way-to-delete-emails-with-the-new-OAuth-2-0/qaq-p/2757552',\n",
       "  'body': 'Before the switch from REST API to Graph API there was a feature to delete emails once they have been made into Jira tickers. This feature is no longer present. I see that this was addressed in one of your articles. Is this a permanent change to the sweeper or will there eventually be an feature to toggle this on and off?'},\n",
       " {'title': 'Special Characters in Jira Tickets Created by Confiforms Automation',\n",
       "  'url': 'https://community.atlassian.com/t5/Confluence-questions/Special-Characters-in-Jira-Tickets-Created-by-Confiforms/qaq-p/2757542',\n",
       "  'body': 'Hello,\\xa0We are using Confiforms IFTTT rules on a confluence page to make Jira tickets.\\xa0We collect up field info like this:\\xa0            #set($strAddInfo = \"[entry.fnField.escapeJSON]\"\\xa0And then build up the json structure to place values in the \"description\" field of the ticket.However, when we use some special characters such as quotes (\"), we encounter errors on submission, and some characters such as < and > and & become HTML encoded like &gt;. We worked around the quote issue with the subpar but passable solution of adding string replacement with replaceWith(\",\\'\\') after the escapeJSON directive. However, we are at an impasse with special characters, and have tried various combinations of the confiforms virtual functions - https://wiki.vertuna.com/display/CONFIFORMS/Virtual+functions - especially the urldecode and the renderAs* functions.\\xa0Is there any further documentation or advice around character escaping?'}]"
      ]
     },
     "execution_count": 10,
     "metadata": {},
     "output_type": "execute_result"
    }
   ],
   "source": [
    "one_page"
   ]
  },
  {
   "cell_type": "code",
   "execution_count": 7,
   "metadata": {},
   "outputs": [],
   "source": [
    "from selenium import webdriver\n",
    "from selenium.webdriver.common.by import By\n",
    "from selenium.webdriver.common.keys import Keys\n",
    "from selenium.webdriver.common.action_chains import ActionChains\n",
    "\n",
    "url = 'https://www.servicenow.com/community/itsm/ct-p/it-service-management'\n",
    "\n",
    "sn_post_title_class = 'custom-message-tile custom-thread-unread'\n",
    "sn_post_body_class = 'lia-message-body'\n",
    "sn_load_button_xpath = '//*[@id=\"custom-loader-button\"]'\n",
    "\n",
    "def fetch_posts(n):\n",
    "    global sn_post_title_class, sn_load_button_xpath, url\n",
    "    posts = []\n",
    "    driver = webdriver.Chrome()\n",
    "    driver.get(url)\n",
    "    time.sleep(6)\n",
    "    load_button = driver.find_element(By.XPATH, sn_load_button_xpath)\n",
    "    while len(posts) < n:\n",
    "        try:\n",
    "            ActionChains(driver).move_to_element(load_button).click(load_button).perform()\n",
    "            time.sleep(2)\n",
    "            post_titles = driver.find_elements(By.CLASS_NAME, sn_post_title_class)\n",
    "            for post in post_titles[len(posts):]:\n",
    "                post_data = {}\n",
    "                post_data['title'] = post.text\n",
    "                post_data['url'] = 'https://www.servicenow.com' + post.get_attribute('href')\n",
    "                posts.append(post_data)\n",
    "        except Exception as e:\n",
    "            print(f'Error: {e}')\n",
    "            break\n",
    "    driver.quit()\n",
    "    return posts\n",
    "\n",
    "# # Function to load more posts\n",
    "# def load_more_posts(driver, load_button_xpath, post_xpath, n):\n",
    "#     posts = []\n",
    "#     while len(posts) < n:\n",
    "#         try:\n",
    "#             load_more_button = driver.find_element(By.XPATH, load_button_xpath)\n",
    "#             ActionChains(driver).move_to_element(load_more_button).click(load_more_button).perform()\n",
    "#             time.sleep(2)  # Wait for new posts to load\n",
    "#             posts = driver.find_elements(By.XPATH, post_xpath)\n",
    "#         except Exception as e:\n",
    "#             print(f'Error: {e}')\n",
    "#             break\n",
    "#     return posts[:n]\n",
    "\n",
    "# # XPath for the load more button and posts\n",
    "# load_button_xpath = '//*[@id=\"load-more-button\"]'  # Update this with the correct XPath\n",
    "# post_xpath = '//*[@class=\"post\"]'  # Update this with the correct XPath for posts\n",
    "\n",
    "# # Get n posts\n",
    "# n = 20\n",
    "# posts = load_more_posts(driver, load_button_xpath, post_xpath, n)\n",
    "\n",
    "# # Process the posts (e.g., print their content)\n",
    "# for post in posts:\n",
    "#     print(post.text)\n",
    "\n",
    "# # Close the WebDriver\n",
    "# driver.quit()"
   ]
  },
  {
   "cell_type": "code",
   "execution_count": 8,
   "metadata": {},
   "outputs": [
    {
     "ename": "KeyboardInterrupt",
     "evalue": "",
     "output_type": "error",
     "traceback": [
      "\u001b[0;31m---------------------------------------------------------------------------\u001b[0m",
      "\u001b[0;31mKeyboardInterrupt\u001b[0m                         Traceback (most recent call last)",
      "Cell \u001b[0;32mIn[8], line 1\u001b[0m\n\u001b[0;32m----> 1\u001b[0m sn_posts \u001b[38;5;241m=\u001b[39m \u001b[43mfetch_posts\u001b[49m\u001b[43m(\u001b[49m\u001b[38;5;241;43m10\u001b[39;49m\u001b[43m)\u001b[49m\n",
      "Cell \u001b[0;32mIn[7], line 22\u001b[0m, in \u001b[0;36mfetch_posts\u001b[0;34m(n)\u001b[0m\n\u001b[1;32m     20\u001b[0m \u001b[38;5;28;01mtry\u001b[39;00m:\n\u001b[1;32m     21\u001b[0m     ActionChains(driver)\u001b[38;5;241m.\u001b[39mmove_to_element(load_button)\u001b[38;5;241m.\u001b[39mclick(load_button)\u001b[38;5;241m.\u001b[39mperform()\n\u001b[0;32m---> 22\u001b[0m     \u001b[43mtime\u001b[49m\u001b[38;5;241;43m.\u001b[39;49m\u001b[43msleep\u001b[49m\u001b[43m(\u001b[49m\u001b[38;5;241;43m2\u001b[39;49m\u001b[43m)\u001b[49m\n\u001b[1;32m     23\u001b[0m     post_titles \u001b[38;5;241m=\u001b[39m driver\u001b[38;5;241m.\u001b[39mfind_elements(By\u001b[38;5;241m.\u001b[39mCLASS_NAME, sn_post_title_class)\n\u001b[1;32m     24\u001b[0m     \u001b[38;5;28;01mfor\u001b[39;00m post \u001b[38;5;129;01min\u001b[39;00m post_titles[\u001b[38;5;28mlen\u001b[39m(posts):]:\n",
      "\u001b[0;31mKeyboardInterrupt\u001b[0m: "
     ]
    }
   ],
   "source": [
    "sn_posts = fetch_posts(10)"
   ]
  }
 ],
 "metadata": {
  "kernelspec": {
   "display_name": "the_bastion",
   "language": "python",
   "name": "python3"
  },
  "language_info": {
   "codemirror_mode": {
    "name": "ipython",
    "version": 3
   },
   "file_extension": ".py",
   "mimetype": "text/x-python",
   "name": "python",
   "nbconvert_exporter": "python",
   "pygments_lexer": "ipython3",
   "version": "3.10.6"
  }
 },
 "nbformat": 4,
 "nbformat_minor": 2
}
