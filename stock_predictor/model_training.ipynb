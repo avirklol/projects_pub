{
 "cells": [
  {
   "cell_type": "markdown",
   "metadata": {},
   "source": [
    "# Imports & Setup"
   ]
  },
  {
   "cell_type": "code",
   "execution_count": 1,
   "metadata": {},
   "outputs": [],
   "source": [
    "%load_ext autoreload\n",
    "%autoreload 2"
   ]
  },
  {
   "cell_type": "code",
   "execution_count": 2,
   "metadata": {},
   "outputs": [],
   "source": [
    "import os\n",
    "import streamlit as st\n",
    "import tensorflow as tf\n",
    "import pandas as pd\n",
    "import numpy as np\n",
    "import matplotlib.pyplot as plt\n",
    "import seaborn as sns\n",
    "import sklearn as sk\n",
    "import requests\n",
    "from io import StringIO\n",
    "from pathlib import Path\n",
    "from datetime import datetime\n",
    "from dotenv import load_dotenv\n",
    "from urllib.parse import urlencode\n",
    "\n",
    "# Uncomment when ready for machine learning:\n",
    "# from sklearn.preprocessing import MinMaxScaler\n",
    "# from sklearn.model_selection import train_test_split\n",
    "# from tensorflow.keras.models import Sequential\n",
    "# from tensorflow.keras.layers import LSTM, Dense, Dropout\n",
    "# from tensorflow.keras.callbacks import EarlyStopping"
   ]
  },
  {
   "cell_type": "code",
   "execution_count": 3,
   "metadata": {},
   "outputs": [
    {
     "data": {
      "text/plain": [
       "True"
      ]
     },
     "execution_count": 3,
     "metadata": {},
     "output_type": "execute_result"
    }
   ],
   "source": [
    "# Pulling up our .env file:\n",
    "load_dotenv()"
   ]
  },
  {
   "cell_type": "markdown",
   "metadata": {},
   "source": [
    "# Data Preprocessing"
   ]
  },
  {
   "cell_type": "markdown",
   "metadata": {},
   "source": [
    "## Declarations and Functions"
   ]
  },
  {
   "cell_type": "code",
   "execution_count": 4,
   "metadata": {},
   "outputs": [],
   "source": [
    "# Sets and Parameters\n",
    "\n",
    "function_set = ['TIME_SERIES_DAILY', 'RSI', 'NEWS_SENTIMENT', 'MACD']\n",
    "single_function = ['NEWS_SENTIMENT']\n",
    "sa_function_parameters = ['technology', 'retail_wholesale']\n",
    "premium_function_set = ['MACD']\n",
    "\n",
    "parameters = {\n",
    "    'TIME_SERIES_DAILY': {\n",
    "        'function': 'TIME_SERIES_DAILY',\n",
    "        'symbol': None,\n",
    "        'outputsize': 'full',\n",
    "        'datatype': None,\n",
    "        'apikey': None\n",
    "        },\n",
    "    'NEWS_SENTIMENT': {\n",
    "        'function': 'NEWS_SENTIMENT',\n",
    "        'tickers': None,\n",
    "        'limit': 1000,\n",
    "        'apikey': None\n",
    "        },\n",
    "    'RSI': {\n",
    "        'function':'RSI',\n",
    "        'symbol': None,\n",
    "        'interval': 'daily',\n",
    "        'time_period': 14,\n",
    "        'series_type': 'close',\n",
    "        'datatype': None,\n",
    "        'apikey': None\n",
    "        },\n",
    "    'REAL_GDP': {\n",
    "        'function': 'REAL_GDP',\n",
    "        'interval':'quarterly',\n",
    "        'datatype': None,\n",
    "        'apikey': None\n",
    "        },\n",
    "    'MACD': {\n",
    "        'function': 'MACD',\n",
    "        'symbol': None,\n",
    "        'interval': 'daily',\n",
    "        'series_type':'close',\n",
    "        'datatype': None,\n",
    "        'apikey': None\n",
    "    }\n",
    "}"
   ]
  },
  {
   "cell_type": "code",
   "execution_count": 5,
   "metadata": {},
   "outputs": [],
   "source": [
    "# Export CSV Function\n",
    "#------\n",
    "# Extracts a given DataFrame to a data folder within the working directory, appending a date value to the name.\n",
    "#------\n",
    "\n",
    "def export_csv(df, file_name: str):\n",
    "\n",
    "    # Conditional to verify that \"file_name\" is a string:\n",
    "    if not isinstance(file_name, str):\n",
    "        raise TypeError(f'The \"file_name\" parameter must be a string; it\\'s currently {str(type(file_name)).upper()}.')\n",
    "\n",
    "    current_date = datetime.now().strftime('%Y-%m-%d')\n",
    "\n",
    "    path = Path('{}/data'.format(os.getcwd()))\n",
    "    path.mkdir(parents=True, exist_ok=True)\n",
    "    extract_to = '{}/{}_{}.csv'.format(path, current_date, file_name)\n",
    "\n",
    "    df.to_csv(extract_to)\n",
    "\n",
    "    return print('Exported your DataFrame to \\'{}\\'!'.format(extract_to))"
   ]
  },
  {
   "cell_type": "code",
   "execution_count": 34,
   "metadata": {},
   "outputs": [],
   "source": [
    "# Generate Features Function\n",
    "#------\n",
    "# Generates different lagged close, rolling mean/std and relative change features for the daily time series data.\n",
    "#------\n",
    "\n",
    "def generate_features(df):\n",
    "\n",
    "    # Declaring the location of the close column; to insert the new features next it.\n",
    "    close_location = df.columns.get_loc('close')\n",
    "\n",
    "    # Lagged Close\n",
    "    df.insert(close_location + 1, 'lag_1', df['close'].shift(1))\n",
    "    df.insert(close_location + 2, 'lag_2', df['close'].shift(2))\n",
    "\n",
    "    # Windowed Mean and STD\n",
    "    df.insert(close_location + 3, 'rolling_mean_7', df['close'].rolling(window=7).mean())\n",
    "    df.insert(close_location + 4, 'rolling_std_7', df['close'].rolling(window=7).std())\n",
    "\n",
    "    # Relative Change\n",
    "    df.insert(close_location + 5, 'daily_return', df['close'].pct_change() * 100)\n",
    "\n",
    "    #Dropping any rows with resulting null values.\n",
    "    df.dropna(inplace=True)\n",
    "\n",
    "    return df"
   ]
  },
  {
   "cell_type": "code",
   "execution_count": 6,
   "metadata": {},
   "outputs": [],
   "source": [
    "# Sentiment Extraction Function\n",
    "#------\n",
    "# Applied to the resulting DataFrame from the \"NEWS_SENTIMENT\" function to extract useful data.\n",
    "#------\n",
    "\n",
    "def extract_sentiment(df, symbol: str):\n",
    "\n",
    "    # Conditional to verify that \"symbol\" is a string:\n",
    "    if not isinstance(symbol, str):\n",
    "        raise TypeError(f'The \"symbol\" parameter must be a string; it\\'s currently {str(type(symbol)).upper()}.')\n",
    "\n",
    "    # Declaration of an empty DataFrames for extracting data and merging before return:\n",
    "    df_time = pd.DataFrame(columns=['id', 'time_published'])\n",
    "    df_sentiment = pd.DataFrame(columns=['id', 'relevance_score', 'ticker_sentiment_score', 'ticker_sentiment_label'])\n",
    "\n",
    "    # Declaring the amount of returned articles to be looped over:\n",
    "    count = df.shape[0]\n",
    "\n",
    "    # Loop that pulls the \"time_published\", \"relevance_score\", \"ticker_sentiment_score\", and \"ticker_sentiment_label\" for the given stock symbol\n",
    "    # from every row of the \"NEWS_SENTIMENT\" DataFrame:\n",
    "    for id in range(count):\n",
    "        time_row = pd.DataFrame({\n",
    "            'id': [id],\n",
    "            'time_published': [df.loc[id, 'feed']['time_published']]\n",
    "        })\n",
    "        df_time = pd.concat([df_time, time_row], ignore_index=True)\n",
    "        for sentiment in df.loc[id, 'feed']['ticker_sentiment']:\n",
    "            if sentiment['ticker'] == symbol:\n",
    "                sentiment_row = pd.DataFrame({\n",
    "                    'id': [id],\n",
    "                    'relevance_score': [sentiment['relevance_score']],\n",
    "                    'ticker_sentiment_score':[sentiment['ticker_sentiment_score']],\n",
    "                    'ticker_sentiment_label': [sentiment['ticker_sentiment_label']]\n",
    "                })\n",
    "                df_sentiment = pd.concat([df_sentiment, sentiment_row], ignore_index=True)\n",
    "\n",
    "    merged_df = df_time.merge(df_sentiment, on='id').drop(columns='id')\n",
    "\n",
    "    return merged_df"
   ]
  },
  {
   "cell_type": "code",
   "execution_count": 7,
   "metadata": {},
   "outputs": [],
   "source": [
    "# TimeSeries Indexer\n",
    "#------\n",
    "# Applied to every DataFrame produce by an API call.\n",
    "#------\n",
    "\n",
    "def set_time_index(df):\n",
    "    for column in df.columns:\n",
    "        if str(column).startswith('time') or str(column).endswith('time'):\n",
    "            df.set_index(pd.to_datetime(df[column]).dt.date, inplace=True)\n",
    "            df.sort_index(inplace=True)\n",
    "            df.drop(columns=column, inplace=True)\n",
    "            df.index.name = 'time'\n",
    "    return df"
   ]
  },
  {
   "cell_type": "code",
   "execution_count": 8,
   "metadata": {},
   "outputs": [],
   "source": [
    "# Data Import Function\n",
    "# ------\n",
    "# Can create a tuple of DataFrames indexed on a TimeSeries, ready to be processed and merged into a train/test split.\n",
    "# ------\n",
    "\n",
    "def alpha_multicall(function_set, symbol: str, datatype: str, base_query='https://www.alphavantage.co/query?', apikey=os.getenv('ALPHAVANTAGE_API_KEY')):\n",
    "\n",
    "    # Conditional to verify that \"symbol\" and \"datatype\" are strings:\n",
    "    if not isinstance(symbol, str) or not isinstance(datatype, str):\n",
    "        raise TypeError(f'Both the \"symbol\" and \"datatype\" parameters must be strings.\\nSYMBOL: {str(type(symbol)).upper()}\\nDATATYPE: {str(type(datatype)).upper()}')\n",
    "\n",
    "    # Allow the user to enter a symbol in lowercase without breaking the call:\n",
    "    symbol = symbol.upper()\n",
    "\n",
    "    # DataFrame list to be converted to a tuple before being returned to the user:\n",
    "    dataframes = []\n",
    "\n",
    "    # The loop that applies the API key to each parameter set:\n",
    "    for function in function_set:\n",
    "        parameters[function]['apikey'] = apikey\n",
    "\n",
    "    # The loop that looks through the \"parameters\" dictionary and verifies if \"symbol\" and \"datatype\" keys are present:\n",
    "    for function in function_set:\n",
    "        if 'symbol' and 'datatype' in parameters[function].keys():\n",
    "            parameters[function]['symbol'] = symbol\n",
    "            parameters[function]['datatype'] = datatype\n",
    "        elif not 'symbol' and 'datatype' in parameters[function].keys():\n",
    "            parameters[function]['datatype'] = datatype\n",
    "        else:\n",
    "            parameters[function]['symbol'] = symbol\n",
    "\n",
    "\n",
    "    # The loop that makes the call for each function defined in the function set:\n",
    "    for function in function_set:\n",
    "\n",
    "        # The \"NEWS_SENTIMENT\" function only returns JSON with a ton of data that isn't relevant to a prediction model,\n",
    "        # this conditional statement passes the resulting DataFrame from a \"NEWS_SENTIMENT\" call\n",
    "        # through Sentiment Extraction Function:\n",
    "        if function == 'NEWS_SENTIMENT':\n",
    "            parameters[function]['tickers'] = symbol\n",
    "            # df = pd.DataFrame(requests.get(base_query + urlencode(parameters[function])).json())\n",
    "            df = extract_sentiment(pd.DataFrame(requests.get(base_query + urlencode(parameters[function])).json()), symbol)\n",
    "            df = set_time_index(df)\n",
    "            dataframes.append(df)\n",
    "        else:\n",
    "            df = pd.read_csv(StringIO(requests.get(base_query + urlencode(parameters[function])).text))\n",
    "            df = set_time_index(df)\n",
    "            dataframes.append(df)\n",
    "\n",
    "    # Returns a tuple of DataFrames to be separated into multiple objects or single dataframe if only :\n",
    "    return tuple(dataframes)"
   ]
  },
  {
   "cell_type": "markdown",
   "metadata": {},
   "source": [
    "## First Set"
   ]
  },
  {
   "cell_type": "code",
   "execution_count": 9,
   "metadata": {},
   "outputs": [],
   "source": [
    "aapl_tsd, aapl_rsi, aapl_ns, aapl_macd = alpha_multicall(function_set, 'AAPL', 'csv')"
   ]
  },
  {
   "cell_type": "code",
   "execution_count": 10,
   "metadata": {},
   "outputs": [
    {
     "data": {
      "text/html": [
       "<div>\n",
       "<style scoped>\n",
       "    .dataframe tbody tr th:only-of-type {\n",
       "        vertical-align: middle;\n",
       "    }\n",
       "\n",
       "    .dataframe tbody tr th {\n",
       "        vertical-align: top;\n",
       "    }\n",
       "\n",
       "    .dataframe thead th {\n",
       "        text-align: right;\n",
       "    }\n",
       "</style>\n",
       "<table border=\"1\" class=\"dataframe\">\n",
       "  <thead>\n",
       "    <tr style=\"text-align: right;\">\n",
       "      <th></th>\n",
       "      <th>open</th>\n",
       "      <th>high</th>\n",
       "      <th>low</th>\n",
       "      <th>close</th>\n",
       "      <th>volume</th>\n",
       "    </tr>\n",
       "    <tr>\n",
       "      <th>time</th>\n",
       "      <th></th>\n",
       "      <th></th>\n",
       "      <th></th>\n",
       "      <th></th>\n",
       "      <th></th>\n",
       "    </tr>\n",
       "  </thead>\n",
       "  <tbody>\n",
       "    <tr>\n",
       "      <th>2024-03-13</th>\n",
       "      <td>172.770</td>\n",
       "      <td>173.1850</td>\n",
       "      <td>170.760</td>\n",
       "      <td>171.13</td>\n",
       "      <td>51948951</td>\n",
       "    </tr>\n",
       "    <tr>\n",
       "      <th>2024-03-14</th>\n",
       "      <td>172.910</td>\n",
       "      <td>174.3078</td>\n",
       "      <td>172.050</td>\n",
       "      <td>173.00</td>\n",
       "      <td>72571635</td>\n",
       "    </tr>\n",
       "    <tr>\n",
       "      <th>2024-03-15</th>\n",
       "      <td>171.170</td>\n",
       "      <td>172.6200</td>\n",
       "      <td>170.285</td>\n",
       "      <td>172.62</td>\n",
       "      <td>121752699</td>\n",
       "    </tr>\n",
       "    <tr>\n",
       "      <th>2024-03-18</th>\n",
       "      <td>175.570</td>\n",
       "      <td>177.7100</td>\n",
       "      <td>173.520</td>\n",
       "      <td>173.72</td>\n",
       "      <td>75604184</td>\n",
       "    </tr>\n",
       "    <tr>\n",
       "      <th>2024-03-19</th>\n",
       "      <td>174.340</td>\n",
       "      <td>176.6050</td>\n",
       "      <td>173.030</td>\n",
       "      <td>176.08</td>\n",
       "      <td>55215244</td>\n",
       "    </tr>\n",
       "    <tr>\n",
       "      <th>2024-03-20</th>\n",
       "      <td>175.720</td>\n",
       "      <td>178.6700</td>\n",
       "      <td>175.090</td>\n",
       "      <td>178.67</td>\n",
       "      <td>53423102</td>\n",
       "    </tr>\n",
       "    <tr>\n",
       "      <th>2024-03-21</th>\n",
       "      <td>177.050</td>\n",
       "      <td>177.4900</td>\n",
       "      <td>170.840</td>\n",
       "      <td>171.37</td>\n",
       "      <td>106181270</td>\n",
       "    </tr>\n",
       "    <tr>\n",
       "      <th>2024-03-22</th>\n",
       "      <td>171.760</td>\n",
       "      <td>173.0500</td>\n",
       "      <td>170.060</td>\n",
       "      <td>172.28</td>\n",
       "      <td>71160138</td>\n",
       "    </tr>\n",
       "    <tr>\n",
       "      <th>2024-03-25</th>\n",
       "      <td>170.565</td>\n",
       "      <td>171.9400</td>\n",
       "      <td>169.450</td>\n",
       "      <td>170.85</td>\n",
       "      <td>54288328</td>\n",
       "    </tr>\n",
       "    <tr>\n",
       "      <th>2024-03-26</th>\n",
       "      <td>170.000</td>\n",
       "      <td>171.4200</td>\n",
       "      <td>169.600</td>\n",
       "      <td>169.71</td>\n",
       "      <td>57273178</td>\n",
       "    </tr>\n",
       "  </tbody>\n",
       "</table>\n",
       "</div>"
      ],
      "text/plain": [
       "               open      high      low   close     volume\n",
       "time                                                     \n",
       "2024-03-13  172.770  173.1850  170.760  171.13   51948951\n",
       "2024-03-14  172.910  174.3078  172.050  173.00   72571635\n",
       "2024-03-15  171.170  172.6200  170.285  172.62  121752699\n",
       "2024-03-18  175.570  177.7100  173.520  173.72   75604184\n",
       "2024-03-19  174.340  176.6050  173.030  176.08   55215244\n",
       "2024-03-20  175.720  178.6700  175.090  178.67   53423102\n",
       "2024-03-21  177.050  177.4900  170.840  171.37  106181270\n",
       "2024-03-22  171.760  173.0500  170.060  172.28   71160138\n",
       "2024-03-25  170.565  171.9400  169.450  170.85   54288328\n",
       "2024-03-26  170.000  171.4200  169.600  169.71   57273178"
      ]
     },
     "execution_count": 10,
     "metadata": {},
     "output_type": "execute_result"
    }
   ],
   "source": [
    "aapl_tsd.tail(10)"
   ]
  },
  {
   "cell_type": "code",
   "execution_count": 11,
   "metadata": {},
   "outputs": [
    {
     "data": {
      "text/plain": [
       "(6139, 5)"
      ]
     },
     "execution_count": 11,
     "metadata": {},
     "output_type": "execute_result"
    }
   ],
   "source": [
    "aapl_tsd.shape"
   ]
  },
  {
   "cell_type": "code",
   "execution_count": 12,
   "metadata": {},
   "outputs": [
    {
     "data": {
      "text/html": [
       "<div>\n",
       "<style scoped>\n",
       "    .dataframe tbody tr th:only-of-type {\n",
       "        vertical-align: middle;\n",
       "    }\n",
       "\n",
       "    .dataframe tbody tr th {\n",
       "        vertical-align: top;\n",
       "    }\n",
       "\n",
       "    .dataframe thead th {\n",
       "        text-align: right;\n",
       "    }\n",
       "</style>\n",
       "<table border=\"1\" class=\"dataframe\">\n",
       "  <thead>\n",
       "    <tr style=\"text-align: right;\">\n",
       "      <th></th>\n",
       "      <th>RSI</th>\n",
       "    </tr>\n",
       "    <tr>\n",
       "      <th>time</th>\n",
       "      <th></th>\n",
       "    </tr>\n",
       "  </thead>\n",
       "  <tbody>\n",
       "    <tr>\n",
       "      <th>1999-11-19</th>\n",
       "      <td>69.9838</td>\n",
       "    </tr>\n",
       "    <tr>\n",
       "      <th>1999-11-22</th>\n",
       "      <td>66.4703</td>\n",
       "    </tr>\n",
       "    <tr>\n",
       "      <th>1999-11-23</th>\n",
       "      <td>68.5184</td>\n",
       "    </tr>\n",
       "    <tr>\n",
       "      <th>1999-11-24</th>\n",
       "      <td>70.2012</td>\n",
       "    </tr>\n",
       "    <tr>\n",
       "      <th>1999-11-26</th>\n",
       "      <td>70.5350</td>\n",
       "    </tr>\n",
       "    <tr>\n",
       "      <th>1999-11-29</th>\n",
       "      <td>69.4036</td>\n",
       "    </tr>\n",
       "    <tr>\n",
       "      <th>1999-11-30</th>\n",
       "      <td>72.5435</td>\n",
       "    </tr>\n",
       "    <tr>\n",
       "      <th>1999-12-01</th>\n",
       "      <td>76.5988</td>\n",
       "    </tr>\n",
       "    <tr>\n",
       "      <th>1999-12-02</th>\n",
       "      <td>80.7953</td>\n",
       "    </tr>\n",
       "    <tr>\n",
       "      <th>1999-12-03</th>\n",
       "      <td>83.0089</td>\n",
       "    </tr>\n",
       "  </tbody>\n",
       "</table>\n",
       "</div>"
      ],
      "text/plain": [
       "                RSI\n",
       "time               \n",
       "1999-11-19  69.9838\n",
       "1999-11-22  66.4703\n",
       "1999-11-23  68.5184\n",
       "1999-11-24  70.2012\n",
       "1999-11-26  70.5350\n",
       "1999-11-29  69.4036\n",
       "1999-11-30  72.5435\n",
       "1999-12-01  76.5988\n",
       "1999-12-02  80.7953\n",
       "1999-12-03  83.0089"
      ]
     },
     "execution_count": 12,
     "metadata": {},
     "output_type": "execute_result"
    }
   ],
   "source": [
    "aapl_rsi.head(10)"
   ]
  },
  {
   "cell_type": "code",
   "execution_count": 13,
   "metadata": {},
   "outputs": [
    {
     "data": {
      "text/plain": [
       "(6125, 1)"
      ]
     },
     "execution_count": 13,
     "metadata": {},
     "output_type": "execute_result"
    }
   ],
   "source": [
    "aapl_rsi.shape"
   ]
  },
  {
   "cell_type": "code",
   "execution_count": 14,
   "metadata": {},
   "outputs": [
    {
     "data": {
      "text/html": [
       "<div>\n",
       "<style scoped>\n",
       "    .dataframe tbody tr th:only-of-type {\n",
       "        vertical-align: middle;\n",
       "    }\n",
       "\n",
       "    .dataframe tbody tr th {\n",
       "        vertical-align: top;\n",
       "    }\n",
       "\n",
       "    .dataframe thead th {\n",
       "        text-align: right;\n",
       "    }\n",
       "</style>\n",
       "<table border=\"1\" class=\"dataframe\">\n",
       "  <thead>\n",
       "    <tr style=\"text-align: right;\">\n",
       "      <th></th>\n",
       "      <th>MACD</th>\n",
       "      <th>MACD_Hist</th>\n",
       "      <th>MACD_Signal</th>\n",
       "    </tr>\n",
       "    <tr>\n",
       "      <th>time</th>\n",
       "      <th></th>\n",
       "      <th></th>\n",
       "      <th></th>\n",
       "    </tr>\n",
       "  </thead>\n",
       "  <tbody>\n",
       "    <tr>\n",
       "      <th>2024-03-20</th>\n",
       "      <td>-2.4823</td>\n",
       "      <td>0.8488</td>\n",
       "      <td>-3.3311</td>\n",
       "    </tr>\n",
       "    <tr>\n",
       "      <th>2024-03-21</th>\n",
       "      <td>-2.5804</td>\n",
       "      <td>0.6005</td>\n",
       "      <td>-3.1810</td>\n",
       "    </tr>\n",
       "    <tr>\n",
       "      <th>2024-03-22</th>\n",
       "      <td>-2.5553</td>\n",
       "      <td>0.5005</td>\n",
       "      <td>-3.0558</td>\n",
       "    </tr>\n",
       "    <tr>\n",
       "      <th>2024-03-25</th>\n",
       "      <td>-2.6206</td>\n",
       "      <td>0.3482</td>\n",
       "      <td>-2.9688</td>\n",
       "    </tr>\n",
       "    <tr>\n",
       "      <th>2024-03-26</th>\n",
       "      <td>-2.7328</td>\n",
       "      <td>0.1888</td>\n",
       "      <td>-2.9216</td>\n",
       "    </tr>\n",
       "  </tbody>\n",
       "</table>\n",
       "</div>"
      ],
      "text/plain": [
       "              MACD  MACD_Hist  MACD_Signal\n",
       "time                                      \n",
       "2024-03-20 -2.4823     0.8488      -3.3311\n",
       "2024-03-21 -2.5804     0.6005      -3.1810\n",
       "2024-03-22 -2.5553     0.5005      -3.0558\n",
       "2024-03-25 -2.6206     0.3482      -2.9688\n",
       "2024-03-26 -2.7328     0.1888      -2.9216"
      ]
     },
     "execution_count": 14,
     "metadata": {},
     "output_type": "execute_result"
    }
   ],
   "source": [
    "aapl_macd.tail()"
   ]
  },
  {
   "cell_type": "code",
   "execution_count": 15,
   "metadata": {},
   "outputs": [
    {
     "data": {
      "text/plain": [
       "(683, 3)"
      ]
     },
     "execution_count": 15,
     "metadata": {},
     "output_type": "execute_result"
    }
   ],
   "source": [
    "aapl_ns.shape"
   ]
  },
  {
   "cell_type": "code",
   "execution_count": 35,
   "metadata": {},
   "outputs": [],
   "source": [
    "aapl = aapl_tsd.merge(aapl_rsi, left_index=True, right_index=True) \\\n",
    "    .merge(aapl_macd, left_index=True, right_index=True)"
   ]
  },
  {
   "cell_type": "code",
   "execution_count": 39,
   "metadata": {},
   "outputs": [
    {
     "data": {
      "text/plain": [
       "(6100, 14)"
      ]
     },
     "execution_count": 39,
     "metadata": {},
     "output_type": "execute_result"
    }
   ],
   "source": [
    "aapl.shape"
   ]
  },
  {
   "cell_type": "code",
   "execution_count": 36,
   "metadata": {},
   "outputs": [],
   "source": [
    "aapl = generate_features(aapl)"
   ]
  },
  {
   "cell_type": "code",
   "execution_count": 38,
   "metadata": {},
   "outputs": [
    {
     "name": "stdout",
     "output_type": "stream",
     "text": [
      "Exported your DataFrame to '/Users/annandvirk/code/avirklol/projects_pub/stock_predictor/data/2024-03-26_aapl.csv'!\n"
     ]
    }
   ],
   "source": [
    "export_csv(aapl, 'aapl')"
   ]
  },
  {
   "cell_type": "markdown",
   "metadata": {},
   "source": [
    "## Second Set"
   ]
  },
  {
   "cell_type": "code",
   "execution_count": 40,
   "metadata": {},
   "outputs": [],
   "source": [
    "msft_tsd, msft_rsi, msft_ns, msft_macd = alpha_multicall(function_set, 'msft', 'csv')"
   ]
  },
  {
   "cell_type": "code",
   "execution_count": 45,
   "metadata": {},
   "outputs": [
    {
     "data": {
      "text/html": [
       "<div>\n",
       "<style scoped>\n",
       "    .dataframe tbody tr th:only-of-type {\n",
       "        vertical-align: middle;\n",
       "    }\n",
       "\n",
       "    .dataframe tbody tr th {\n",
       "        vertical-align: top;\n",
       "    }\n",
       "\n",
       "    .dataframe thead th {\n",
       "        text-align: right;\n",
       "    }\n",
       "</style>\n",
       "<table border=\"1\" class=\"dataframe\">\n",
       "  <thead>\n",
       "    <tr style=\"text-align: right;\">\n",
       "      <th></th>\n",
       "      <th>open</th>\n",
       "      <th>high</th>\n",
       "      <th>low</th>\n",
       "      <th>close</th>\n",
       "      <th>volume</th>\n",
       "    </tr>\n",
       "    <tr>\n",
       "      <th>time</th>\n",
       "      <th></th>\n",
       "      <th></th>\n",
       "      <th></th>\n",
       "      <th></th>\n",
       "      <th></th>\n",
       "    </tr>\n",
       "  </thead>\n",
       "  <tbody>\n",
       "    <tr>\n",
       "      <th>1999-11-01</th>\n",
       "      <td>93.25</td>\n",
       "      <td>94.19</td>\n",
       "      <td>92.12</td>\n",
       "      <td>92.37</td>\n",
       "      <td>26630600</td>\n",
       "    </tr>\n",
       "    <tr>\n",
       "      <th>1999-11-02</th>\n",
       "      <td>92.75</td>\n",
       "      <td>94.50</td>\n",
       "      <td>91.94</td>\n",
       "      <td>92.56</td>\n",
       "      <td>23174500</td>\n",
       "    </tr>\n",
       "    <tr>\n",
       "      <th>1999-11-03</th>\n",
       "      <td>92.94</td>\n",
       "      <td>93.50</td>\n",
       "      <td>91.50</td>\n",
       "      <td>92.00</td>\n",
       "      <td>22258500</td>\n",
       "    </tr>\n",
       "    <tr>\n",
       "      <th>1999-11-04</th>\n",
       "      <td>92.31</td>\n",
       "      <td>92.75</td>\n",
       "      <td>90.31</td>\n",
       "      <td>91.75</td>\n",
       "      <td>27119700</td>\n",
       "    </tr>\n",
       "    <tr>\n",
       "      <th>1999-11-05</th>\n",
       "      <td>91.81</td>\n",
       "      <td>92.87</td>\n",
       "      <td>90.50</td>\n",
       "      <td>91.56</td>\n",
       "      <td>35083700</td>\n",
       "    </tr>\n",
       "  </tbody>\n",
       "</table>\n",
       "</div>"
      ],
      "text/plain": [
       "             open   high    low  close    volume\n",
       "time                                            \n",
       "1999-11-01  93.25  94.19  92.12  92.37  26630600\n",
       "1999-11-02  92.75  94.50  91.94  92.56  23174500\n",
       "1999-11-03  92.94  93.50  91.50  92.00  22258500\n",
       "1999-11-04  92.31  92.75  90.31  91.75  27119700\n",
       "1999-11-05  91.81  92.87  90.50  91.56  35083700"
      ]
     },
     "execution_count": 45,
     "metadata": {},
     "output_type": "execute_result"
    }
   ],
   "source": [
    "msft_tsd.head()"
   ]
  },
  {
   "cell_type": "code",
   "execution_count": 42,
   "metadata": {},
   "outputs": [],
   "source": [
    "msft = msft_tsd.merge(msft_rsi, left_index=True, right_index=True) \\\n",
    "    .merge(msft_macd, left_index=True, right_index=True)"
   ]
  },
  {
   "cell_type": "code",
   "execution_count": 43,
   "metadata": {},
   "outputs": [],
   "source": [
    "msft = generate_features(msft)"
   ]
  },
  {
   "cell_type": "code",
   "execution_count": 49,
   "metadata": {},
   "outputs": [
    {
     "data": {
      "text/html": [
       "<div>\n",
       "<style scoped>\n",
       "    .dataframe tbody tr th:only-of-type {\n",
       "        vertical-align: middle;\n",
       "    }\n",
       "\n",
       "    .dataframe tbody tr th {\n",
       "        vertical-align: top;\n",
       "    }\n",
       "\n",
       "    .dataframe thead th {\n",
       "        text-align: right;\n",
       "    }\n",
       "</style>\n",
       "<table border=\"1\" class=\"dataframe\">\n",
       "  <thead>\n",
       "    <tr style=\"text-align: right;\">\n",
       "      <th></th>\n",
       "      <th>open</th>\n",
       "      <th>high</th>\n",
       "      <th>low</th>\n",
       "      <th>close</th>\n",
       "      <th>lag_1</th>\n",
       "      <th>lag_2</th>\n",
       "      <th>rolling_mean_7</th>\n",
       "      <th>rolling_std_7</th>\n",
       "      <th>daily_return</th>\n",
       "      <th>volume</th>\n",
       "      <th>RSI</th>\n",
       "      <th>MACD</th>\n",
       "      <th>MACD_Hist</th>\n",
       "      <th>MACD_Signal</th>\n",
       "    </tr>\n",
       "    <tr>\n",
       "      <th>time</th>\n",
       "      <th></th>\n",
       "      <th></th>\n",
       "      <th></th>\n",
       "      <th></th>\n",
       "      <th></th>\n",
       "      <th></th>\n",
       "      <th></th>\n",
       "      <th></th>\n",
       "      <th></th>\n",
       "      <th></th>\n",
       "      <th></th>\n",
       "      <th></th>\n",
       "      <th></th>\n",
       "      <th></th>\n",
       "    </tr>\n",
       "  </thead>\n",
       "  <tbody>\n",
       "    <tr>\n",
       "      <th>1999-12-28</th>\n",
       "      <td>118.75</td>\n",
       "      <td>118.81</td>\n",
       "      <td>117.06</td>\n",
       "      <td>117.50</td>\n",
       "      <td>119.12</td>\n",
       "      <td>117.44</td>\n",
       "      <td>116.498571</td>\n",
       "      <td>2.077398</td>\n",
       "      <td>-1.359973</td>\n",
       "      <td>12295500</td>\n",
       "      <td>75.2622</td>\n",
       "      <td>2.3195</td>\n",
       "      <td>0.5222</td>\n",
       "      <td>1.7973</td>\n",
       "    </tr>\n",
       "    <tr>\n",
       "      <th>1999-12-29</th>\n",
       "      <td>116.94</td>\n",
       "      <td>118.37</td>\n",
       "      <td>116.81</td>\n",
       "      <td>117.94</td>\n",
       "      <td>117.50</td>\n",
       "      <td>119.12</td>\n",
       "      <td>116.882857</td>\n",
       "      <td>2.056637</td>\n",
       "      <td>0.374468</td>\n",
       "      <td>8724600</td>\n",
       "      <td>75.6687</td>\n",
       "      <td>2.3114</td>\n",
       "      <td>0.4113</td>\n",
       "      <td>1.9001</td>\n",
       "    </tr>\n",
       "    <tr>\n",
       "      <th>1999-12-30</th>\n",
       "      <td>117.87</td>\n",
       "      <td>119.94</td>\n",
       "      <td>117.12</td>\n",
       "      <td>117.62</td>\n",
       "      <td>117.94</td>\n",
       "      <td>117.50</td>\n",
       "      <td>117.578571</td>\n",
       "      <td>0.953352</td>\n",
       "      <td>-0.271324</td>\n",
       "      <td>11180000</td>\n",
       "      <td>74.7072</td>\n",
       "      <td>2.2707</td>\n",
       "      <td>0.2965</td>\n",
       "      <td>1.9742</td>\n",
       "    </tr>\n",
       "    <tr>\n",
       "      <th>1999-12-31</th>\n",
       "      <td>117.50</td>\n",
       "      <td>117.75</td>\n",
       "      <td>116.25</td>\n",
       "      <td>116.75</td>\n",
       "      <td>117.62</td>\n",
       "      <td>117.94</td>\n",
       "      <td>117.704286</td>\n",
       "      <td>0.719950</td>\n",
       "      <td>-0.739670</td>\n",
       "      <td>6258800</td>\n",
       "      <td>72.0276</td>\n",
       "      <td>2.1915</td>\n",
       "      <td>0.1738</td>\n",
       "      <td>2.0177</td>\n",
       "    </tr>\n",
       "    <tr>\n",
       "      <th>2000-01-03</th>\n",
       "      <td>117.37</td>\n",
       "      <td>118.62</td>\n",
       "      <td>112.00</td>\n",
       "      <td>116.56</td>\n",
       "      <td>116.75</td>\n",
       "      <td>117.62</td>\n",
       "      <td>117.561429</td>\n",
       "      <td>0.842188</td>\n",
       "      <td>-0.162741</td>\n",
       "      <td>26614200</td>\n",
       "      <td>71.4250</td>\n",
       "      <td>2.0997</td>\n",
       "      <td>0.0657</td>\n",
       "      <td>2.0341</td>\n",
       "    </tr>\n",
       "  </tbody>\n",
       "</table>\n",
       "</div>"
      ],
      "text/plain": [
       "              open    high     low   close   lag_1   lag_2  rolling_mean_7  \\\n",
       "time                                                                         \n",
       "1999-12-28  118.75  118.81  117.06  117.50  119.12  117.44      116.498571   \n",
       "1999-12-29  116.94  118.37  116.81  117.94  117.50  119.12      116.882857   \n",
       "1999-12-30  117.87  119.94  117.12  117.62  117.94  117.50      117.578571   \n",
       "1999-12-31  117.50  117.75  116.25  116.75  117.62  117.94      117.704286   \n",
       "2000-01-03  117.37  118.62  112.00  116.56  116.75  117.62      117.561429   \n",
       "\n",
       "            rolling_std_7  daily_return    volume      RSI    MACD  MACD_Hist  \\\n",
       "time                                                                            \n",
       "1999-12-28       2.077398     -1.359973  12295500  75.2622  2.3195     0.5222   \n",
       "1999-12-29       2.056637      0.374468   8724600  75.6687  2.3114     0.4113   \n",
       "1999-12-30       0.953352     -0.271324  11180000  74.7072  2.2707     0.2965   \n",
       "1999-12-31       0.719950     -0.739670   6258800  72.0276  2.1915     0.1738   \n",
       "2000-01-03       0.842188     -0.162741  26614200  71.4250  2.0997     0.0657   \n",
       "\n",
       "            MACD_Signal  \n",
       "time                     \n",
       "1999-12-28       1.7973  \n",
       "1999-12-29       1.9001  \n",
       "1999-12-30       1.9742  \n",
       "1999-12-31       2.0177  \n",
       "2000-01-03       2.0341  "
      ]
     },
     "execution_count": 49,
     "metadata": {},
     "output_type": "execute_result"
    }
   ],
   "source": [
    "msft.head()"
   ]
  },
  {
   "cell_type": "code",
   "execution_count": 50,
   "metadata": {},
   "outputs": [
    {
     "data": {
      "text/plain": [
       "(6100, 14)"
      ]
     },
     "execution_count": 50,
     "metadata": {},
     "output_type": "execute_result"
    }
   ],
   "source": [
    "msft.shape"
   ]
  },
  {
   "cell_type": "code",
   "execution_count": 47,
   "metadata": {},
   "outputs": [
    {
     "name": "stdout",
     "output_type": "stream",
     "text": [
      "Exported your DataFrame to '/Users/annandvirk/code/avirklol/projects_pub/stock_predictor/data/2024-03-26_msft.csv'!\n"
     ]
    }
   ],
   "source": [
    "export_csv(msft, 'msft')"
   ]
  }
 ],
 "metadata": {
  "kernelspec": {
   "display_name": "the_bastion",
   "language": "python",
   "name": "python3"
  },
  "language_info": {
   "codemirror_mode": {
    "name": "ipython",
    "version": 3
   },
   "file_extension": ".py",
   "mimetype": "text/x-python",
   "name": "python",
   "nbconvert_exporter": "python",
   "pygments_lexer": "ipython3",
   "version": "3.10.6"
  }
 },
 "nbformat": 4,
 "nbformat_minor": 2
}
